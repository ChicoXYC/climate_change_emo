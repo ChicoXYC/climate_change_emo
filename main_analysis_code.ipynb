{
 "cells": [
  {
   "cell_type": "code",
   "execution_count": 300,
   "metadata": {},
   "outputs": [],
   "source": [
    "import pandas as pd\n",
    "from scipy import stats\n",
    "import numpy as np\n",
    "import pingouin as pg\n",
    "# import cntext as ct\n",
    "import matplotlib.pyplot as plt\n",
    "import statsmodels.api as sm\n",
    "import statsmodels.formula.api as smf\n",
    "import seaborn as sns\n",
    "import semopy\n",
    "from statsmodels.graphics.factorplots import interaction_plot\n",
    "from statsmodels.stats.outliers_influence import variance_inflation_factor"
   ]
  },
  {
   "cell_type": "markdown",
   "metadata": {},
   "source": [
    "## Read data of LIWC results"
   ]
  },
  {
   "cell_type": "code",
   "execution_count": 6,
   "metadata": {},
   "outputs": [],
   "source": [
    "data = pd.read_csv('LIWC2015 Results (weibo_concat.csv).csv')"
   ]
  },
  {
   "cell_type": "code",
   "execution_count": 447,
   "metadata": {},
   "outputs": [
    {
     "data": {
      "text/plain": [
       "(76514, 120)"
      ]
     },
     "execution_count": 447,
     "metadata": {},
     "output_type": "execute_result"
    }
   ],
   "source": [
    "data.shape"
   ]
  },
  {
   "cell_type": "markdown",
   "metadata": {},
   "source": [
    "## Drop ips that are not from mainland China and posts with empty ips"
   ]
  },
  {
   "cell_type": "code",
   "execution_count": 7,
   "metadata": {},
   "outputs": [],
   "source": [
    "data_drop = data[data['微博发布 ip 属地（2022-04-28及之后发布的微博才有，官媒等不显示 ip 属地）'].notna()].copy()"
   ]
  },
  {
   "cell_type": "code",
   "execution_count": 8,
   "metadata": {},
   "outputs": [],
   "source": [
    "data_drop['ip'] = data_drop['微博发布 ip 属地（2022-04-28及之后发布的微博才有，官媒等不显示 ip 属地）'].apply(lambda x:x.split(' ')[-1])"
   ]
  },
  {
   "cell_type": "code",
   "execution_count": 9,
   "metadata": {},
   "outputs": [],
   "source": [
    "province_list = ['北京','上海','重庆', '天津',\n",
    "                 '广东','江苏','浙江','山东','四川','河南','河北' ,'福建' ,'湖北', '陕西', '湖南', '辽宁', '安徽', '黑龙江', '山西', '江西', '云南','贵州', '广西','内蒙古', '甘肃', '吉林', '新疆', '海南','宁夏', '西藏', '青海']"
   ]
  },
  {
   "cell_type": "code",
   "execution_count": 10,
   "metadata": {},
   "outputs": [],
   "source": [
    "data_drop2 = data_drop[data_drop['ip'].isin(province_list)].copy()"
   ]
  },
  {
   "cell_type": "code",
   "execution_count": 11,
   "metadata": {},
   "outputs": [],
   "source": [
    "data_drop2['publish_time'] = pd.to_datetime(data_drop2['publish_time'])"
   ]
  },
  {
   "cell_type": "code",
   "execution_count": 12,
   "metadata": {},
   "outputs": [
    {
     "data": {
      "text/plain": [
       "(45308, 121)"
      ]
     },
     "execution_count": 12,
     "metadata": {},
     "output_type": "execute_result"
    }
   ],
   "source": [
    "data_drop2.shape"
   ]
  },
  {
   "cell_type": "markdown",
   "metadata": {},
   "source": [
    "## Calculate emotional well-being, analytical thinking and somatosensory indexes"
   ]
  },
  {
   "cell_type": "code",
   "execution_count": 210,
   "metadata": {},
   "outputs": [],
   "source": [
    "data_drop2['emotional_well_being'] = data_drop2['posemo'] - data_drop2['negemo']"
   ]
  },
  {
   "cell_type": "code",
   "execution_count": 211,
   "metadata": {},
   "outputs": [],
   "source": [
    "data_drop2['analytical_thinking'] = data_drop2['prep'] - data_drop2['pronoun'] - data_drop2['auxverb'] - data_drop2['negate'] - data_drop2['conj'] - data_drop2['adverb']"
   ]
  },
  {
   "cell_type": "code",
   "execution_count": 212,
   "metadata": {},
   "outputs": [],
   "source": [
    "data_drop2['somatosensory'] = data_drop2['body'] + data_drop2['percept']"
   ]
  },
  {
   "cell_type": "markdown",
   "metadata": {},
   "source": [
    "## only keep individuals' posts"
   ]
  },
  {
   "cell_type": "code",
   "execution_count": 213,
   "metadata": {},
   "outputs": [],
   "source": [
    "data_drop3 = data_drop2[data_drop2['verify_typ'] == '没有认证'].copy()"
   ]
  },
  {
   "cell_type": "markdown",
   "metadata": {},
   "source": [
    "## detecting pro-environmental tendencies"
   ]
  },
  {
   "cell_type": "code",
   "execution_count": 19,
   "metadata": {},
   "outputs": [],
   "source": [
    "pro_env_keywords = pd.read_excel('PEBs_keywords.xlsx')"
   ]
  },
  {
   "cell_type": "code",
   "execution_count": 20,
   "metadata": {},
   "outputs": [],
   "source": [
    "pro_env_keywords = pro_env_keywords.dropna(subset=['Translation'])"
   ]
  },
  {
   "cell_type": "code",
   "execution_count": 21,
   "metadata": {},
   "outputs": [
    {
     "data": {
      "text/html": [
       "<div>\n",
       "<style scoped>\n",
       "    .dataframe tbody tr th:only-of-type {\n",
       "        vertical-align: middle;\n",
       "    }\n",
       "\n",
       "    .dataframe tbody tr th {\n",
       "        vertical-align: top;\n",
       "    }\n",
       "\n",
       "    .dataframe thead th {\n",
       "        text-align: right;\n",
       "    }\n",
       "</style>\n",
       "<table border=\"1\" class=\"dataframe\">\n",
       "  <thead>\n",
       "    <tr style=\"text-align: right;\">\n",
       "      <th></th>\n",
       "      <th>Behaviors https://doi.org/10.1016/j.jbusres.2013.03.007</th>\n",
       "      <th>Translation</th>\n",
       "      <th>category</th>\n",
       "    </tr>\n",
       "  </thead>\n",
       "  <tbody>\n",
       "    <tr>\n",
       "      <th>1</th>\n",
       "      <td>1. Recycle paper and paper products?</td>\n",
       "      <td>回收纸张</td>\n",
       "      <td>recycling</td>\n",
       "    </tr>\n",
       "    <tr>\n",
       "      <th>2</th>\n",
       "      <td>2. Recycle cardboard?</td>\n",
       "      <td>回收纸板</td>\n",
       "      <td>recycling</td>\n",
       "    </tr>\n",
       "    <tr>\n",
       "      <th>3</th>\n",
       "      <td>3. Recycle plastic bottles and containers?</td>\n",
       "      <td>回收塑料瓶</td>\n",
       "      <td>recycling</td>\n",
       "    </tr>\n",
       "    <tr>\n",
       "      <th>4</th>\n",
       "      <td>4. Recycle aluminum/tin cans and containers?</td>\n",
       "      <td>回收金属</td>\n",
       "      <td>recycling</td>\n",
       "    </tr>\n",
       "    <tr>\n",
       "      <th>5</th>\n",
       "      <td>5. Recycle used glass bottles and containers?</td>\n",
       "      <td>回收玻璃瓶</td>\n",
       "      <td>recycling</td>\n",
       "    </tr>\n",
       "    <tr>\n",
       "      <th>...</th>\n",
       "      <td>...</td>\n",
       "      <td>...</td>\n",
       "      <td>...</td>\n",
       "    </tr>\n",
       "    <tr>\n",
       "      <th>68</th>\n",
       "      <td>NaN</td>\n",
       "      <td>植物饮食</td>\n",
       "      <td>diet</td>\n",
       "    </tr>\n",
       "    <tr>\n",
       "      <th>69</th>\n",
       "      <td>NaN</td>\n",
       "      <td>少吃肉</td>\n",
       "      <td>diet</td>\n",
       "    </tr>\n",
       "    <tr>\n",
       "      <th>70</th>\n",
       "      <td>NaN</td>\n",
       "      <td>自然保护</td>\n",
       "      <td>activism</td>\n",
       "    </tr>\n",
       "    <tr>\n",
       "      <th>71</th>\n",
       "      <td>NaN</td>\n",
       "      <td>环境保护</td>\n",
       "      <td>activism</td>\n",
       "    </tr>\n",
       "    <tr>\n",
       "      <th>72</th>\n",
       "      <td>NaN</td>\n",
       "      <td>环保</td>\n",
       "      <td>activism</td>\n",
       "    </tr>\n",
       "  </tbody>\n",
       "</table>\n",
       "<p>63 rows × 3 columns</p>\n",
       "</div>"
      ],
      "text/plain": [
       "   Behaviors https://doi.org/10.1016/j.jbusres.2013.03.007 Translation  \\\n",
       "1                1. Recycle paper and paper products?             回收纸张   \n",
       "2                               2. Recycle cardboard?             回收纸板   \n",
       "3          3. Recycle plastic bottles and containers?            回收塑料瓶   \n",
       "4        4. Recycle aluminum/tin cans and containers?             回收金属   \n",
       "5       5. Recycle used glass bottles and containers?            回收玻璃瓶   \n",
       "..                                                ...              ...   \n",
       "68                                                NaN             植物饮食   \n",
       "69                                                NaN              少吃肉   \n",
       "70                                                NaN             自然保护   \n",
       "71                                                NaN             环境保护   \n",
       "72                                                NaN               环保   \n",
       "\n",
       "     category  \n",
       "1   recycling  \n",
       "2   recycling  \n",
       "3   recycling  \n",
       "4   recycling  \n",
       "5   recycling  \n",
       "..        ...  \n",
       "68       diet  \n",
       "69       diet  \n",
       "70   activism  \n",
       "71   activism  \n",
       "72   activism  \n",
       "\n",
       "[63 rows x 3 columns]"
      ]
     },
     "execution_count": 21,
     "metadata": {},
     "output_type": "execute_result"
    }
   ],
   "source": [
    "pro_env_keywords"
   ]
  },
  {
   "cell_type": "code",
   "execution_count": 22,
   "metadata": {},
   "outputs": [
    {
     "data": {
      "text/plain": [
       "'回收纸张|回收纸板|回收塑料瓶|回收金属|回收玻璃瓶|回收电池|可循环利用|垃圾分类|可回收包装|随手关灯|自然晾干|买环境安全|冬天调低暖气|用节能灯泡|买有机食品|可降解包装|买环保产品|夏天少用空调|避免使用气溶胶容器|不买用动物进行实验的产品|不买来自濒危动物物种的产品|不买对环境造成危害的产品|不买包装对环境造成危害的产品|不买用农药的产品|捐钱|购买能源效率家用电器|抵制破坏环境|倡导环境保护|签署环境保护请愿书|参加志愿活动|随手关水龙头|节约用电|节约用水|使用可降解|重复使用|节约用水|使用可降解|不使用泡沫塑料包装|节约用水|乘坐|公交车|公共交通|地铁|火车|骑自行车|步行|拼车|减少飞机旅行|素食|绿色消费|可持续性消费|减少浪费|减少塑料|购买区域性产品|使用可再生|减少排放|使用清洁能源|绿色生活|低碳生活|低碳饮食|植物饮食|少吃肉|自然保护|环境保护|环保'"
      ]
     },
     "execution_count": 22,
     "metadata": {},
     "output_type": "execute_result"
    }
   ],
   "source": [
    "pro_key_str = ('|').join(pro_env_keywords['Translation'].tolist())\n",
    "pro_key_str"
   ]
  },
  {
   "cell_type": "code",
   "execution_count": 236,
   "metadata": {},
   "outputs": [],
   "source": [
    "data_drop3['pro_environment'] = data_drop3['content'].str.contains(pro_key_str)"
   ]
  },
  {
   "cell_type": "code",
   "execution_count": 237,
   "metadata": {},
   "outputs": [
    {
     "data": {
      "text/plain": [
       "False    20429\n",
       "True      6092\n",
       "Name: pro_environment, dtype: int64"
      ]
     },
     "execution_count": 237,
     "metadata": {},
     "output_type": "execute_result"
    }
   ],
   "source": [
    "data_drop3['pro_environment'].value_counts()"
   ]
  },
  {
   "cell_type": "markdown",
   "metadata": {},
   "source": [
    "## sample for human validation"
   ]
  },
  {
   "cell_type": "code",
   "execution_count": 980,
   "metadata": {},
   "outputs": [],
   "source": [
    "data_drop3[data_drop3['pro_environment'] == True].sample(n=200,random_state=54321).to_excel('pro_environmental_validation.xlsx')"
   ]
  },
  {
   "cell_type": "code",
   "execution_count": 490,
   "metadata": {},
   "outputs": [],
   "source": [
    "data_drop3.to_csv('posts_indicators_pebs.csv',index=False)"
   ]
  },
  {
   "cell_type": "markdown",
   "metadata": {},
   "source": [
    "## adding weather data"
   ]
  },
  {
   "cell_type": "code",
   "execution_count": 25,
   "metadata": {},
   "outputs": [],
   "source": [
    "weather_data = pd.read_csv('weather_data_agg.csv')"
   ]
  },
  {
   "cell_type": "code",
   "execution_count": 26,
   "metadata": {},
   "outputs": [
    {
     "data": {
      "text/html": [
       "<div>\n",
       "<style scoped>\n",
       "    .dataframe tbody tr th:only-of-type {\n",
       "        vertical-align: middle;\n",
       "    }\n",
       "\n",
       "    .dataframe tbody tr th {\n",
       "        vertical-align: top;\n",
       "    }\n",
       "\n",
       "    .dataframe thead th {\n",
       "        text-align: right;\n",
       "    }\n",
       "</style>\n",
       "<table border=\"1\" class=\"dataframe\">\n",
       "  <thead>\n",
       "    <tr style=\"text-align: right;\">\n",
       "      <th></th>\n",
       "      <th>Unnamed: 0</th>\n",
       "      <th>DATE</th>\n",
       "      <th>province</th>\n",
       "      <th>TMAX_Celsius</th>\n",
       "      <th>TMIN_Celsius</th>\n",
       "      <th>TAVE_Celsius</th>\n",
       "      <th>PRCP_mm</th>\n",
       "    </tr>\n",
       "  </thead>\n",
       "  <tbody>\n",
       "    <tr>\n",
       "      <th>0</th>\n",
       "      <td>0</td>\n",
       "      <td>2002-01-01</td>\n",
       "      <td>上海市</td>\n",
       "      <td>11.111111</td>\n",
       "      <td>3.888889</td>\n",
       "      <td>7.500000</td>\n",
       "      <td>0.000000</td>\n",
       "    </tr>\n",
       "    <tr>\n",
       "      <th>1</th>\n",
       "      <td>1</td>\n",
       "      <td>2002-01-01</td>\n",
       "      <td>云南省</td>\n",
       "      <td>16.728395</td>\n",
       "      <td>3.395062</td>\n",
       "      <td>10.061728</td>\n",
       "      <td>0.000000</td>\n",
       "    </tr>\n",
       "    <tr>\n",
       "      <th>2</th>\n",
       "      <td>2</td>\n",
       "      <td>2002-01-01</td>\n",
       "      <td>内蒙古自治区 ᠦᠪᠦᠷ ᠮᠣᠩᠭᠤᠯ ᠤᠨ ᠥᠪᠡᠷᠲᠡᠭᠡᠨ ᠵᠠᠰᠠᠬᠣ ᠣᠷᠣᠨ</td>\n",
       "      <td>-9.377778</td>\n",
       "      <td>-20.688889</td>\n",
       "      <td>-15.033333</td>\n",
       "      <td>0.010583</td>\n",
       "    </tr>\n",
       "    <tr>\n",
       "      <th>3</th>\n",
       "      <td>3</td>\n",
       "      <td>2002-01-01</td>\n",
       "      <td>北京市</td>\n",
       "      <td>5.555556</td>\n",
       "      <td>-5.555556</td>\n",
       "      <td>0.000000</td>\n",
       "      <td>0.000000</td>\n",
       "    </tr>\n",
       "    <tr>\n",
       "      <th>4</th>\n",
       "      <td>4</td>\n",
       "      <td>2002-01-01</td>\n",
       "      <td>吉林省</td>\n",
       "      <td>-13.055556</td>\n",
       "      <td>-19.583333</td>\n",
       "      <td>-16.319444</td>\n",
       "      <td>0.000000</td>\n",
       "    </tr>\n",
       "    <tr>\n",
       "      <th>...</th>\n",
       "      <td>...</td>\n",
       "      <td>...</td>\n",
       "      <td>...</td>\n",
       "      <td>...</td>\n",
       "      <td>...</td>\n",
       "      <td>...</td>\n",
       "      <td>...</td>\n",
       "    </tr>\n",
       "    <tr>\n",
       "      <th>216471</th>\n",
       "      <td>216471</td>\n",
       "      <td>2023-07-31</td>\n",
       "      <td>辽宁省</td>\n",
       "      <td>31.759259</td>\n",
       "      <td>22.037037</td>\n",
       "      <td>26.898148</td>\n",
       "      <td>0.000000</td>\n",
       "    </tr>\n",
       "    <tr>\n",
       "      <th>216472</th>\n",
       "      <td>216472</td>\n",
       "      <td>2023-07-31</td>\n",
       "      <td>重庆市</td>\n",
       "      <td>31.666667</td>\n",
       "      <td>22.777778</td>\n",
       "      <td>27.222222</td>\n",
       "      <td>8.382000</td>\n",
       "    </tr>\n",
       "    <tr>\n",
       "      <th>216473</th>\n",
       "      <td>216473</td>\n",
       "      <td>2023-07-31</td>\n",
       "      <td>陕西省</td>\n",
       "      <td>29.629630</td>\n",
       "      <td>20.925926</td>\n",
       "      <td>25.277778</td>\n",
       "      <td>3.302000</td>\n",
       "    </tr>\n",
       "    <tr>\n",
       "      <th>216474</th>\n",
       "      <td>216474</td>\n",
       "      <td>2023-07-31</td>\n",
       "      <td>青海省</td>\n",
       "      <td>23.750000</td>\n",
       "      <td>8.564815</td>\n",
       "      <td>16.157407</td>\n",
       "      <td>1.312333</td>\n",
       "    </tr>\n",
       "    <tr>\n",
       "      <th>216475</th>\n",
       "      <td>216475</td>\n",
       "      <td>2023-07-31</td>\n",
       "      <td>黑龙江省</td>\n",
       "      <td>30.481481</td>\n",
       "      <td>18.777778</td>\n",
       "      <td>24.629630</td>\n",
       "      <td>0.000000</td>\n",
       "    </tr>\n",
       "  </tbody>\n",
       "</table>\n",
       "<p>216476 rows × 7 columns</p>\n",
       "</div>"
      ],
      "text/plain": [
       "        Unnamed: 0        DATE                                     province  \\\n",
       "0                0  2002-01-01                                          上海市   \n",
       "1                1  2002-01-01                                          云南省   \n",
       "2                2  2002-01-01  内蒙古自治区 ᠦᠪᠦᠷ ᠮᠣᠩᠭᠤᠯ ᠤᠨ ᠥᠪᠡᠷᠲᠡᠭᠡᠨ ᠵᠠᠰᠠᠬᠣ ᠣᠷᠣᠨ   \n",
       "3                3  2002-01-01                                          北京市   \n",
       "4                4  2002-01-01                                          吉林省   \n",
       "...            ...         ...                                          ...   \n",
       "216471      216471  2023-07-31                                          辽宁省   \n",
       "216472      216472  2023-07-31                                          重庆市   \n",
       "216473      216473  2023-07-31                                          陕西省   \n",
       "216474      216474  2023-07-31                                          青海省   \n",
       "216475      216475  2023-07-31                                         黑龙江省   \n",
       "\n",
       "        TMAX_Celsius  TMIN_Celsius  TAVE_Celsius   PRCP_mm  \n",
       "0          11.111111      3.888889      7.500000  0.000000  \n",
       "1          16.728395      3.395062     10.061728  0.000000  \n",
       "2          -9.377778    -20.688889    -15.033333  0.010583  \n",
       "3           5.555556     -5.555556      0.000000  0.000000  \n",
       "4         -13.055556    -19.583333    -16.319444  0.000000  \n",
       "...              ...           ...           ...       ...  \n",
       "216471     31.759259     22.037037     26.898148  0.000000  \n",
       "216472     31.666667     22.777778     27.222222  8.382000  \n",
       "216473     29.629630     20.925926     25.277778  3.302000  \n",
       "216474     23.750000      8.564815     16.157407  1.312333  \n",
       "216475     30.481481     18.777778     24.629630  0.000000  \n",
       "\n",
       "[216476 rows x 7 columns]"
      ]
     },
     "execution_count": 26,
     "metadata": {},
     "output_type": "execute_result"
    }
   ],
   "source": [
    "weather_data"
   ]
  },
  {
   "cell_type": "code",
   "execution_count": 27,
   "metadata": {},
   "outputs": [],
   "source": [
    "weather_data['Year'] = weather_data['DATE'].apply(lambda x:x.split('-')[0])"
   ]
  },
  {
   "cell_type": "code",
   "execution_count": 29,
   "metadata": {},
   "outputs": [],
   "source": [
    "weather_data['day'] = weather_data['DATE'].apply(lambda x:x[-5:])"
   ]
  },
  {
   "cell_type": "markdown",
   "metadata": {},
   "source": [
    "## calculating percentile and extreme weather events for each week, compared with its 20-year historical records"
   ]
  },
  {
   "cell_type": "code",
   "execution_count": 31,
   "metadata": {},
   "outputs": [],
   "source": [
    "def custom_agg(x):\n",
    "    return [x.quantile(0.9),x.quantile(0.1), x.mean()]"
   ]
  },
  {
   "cell_type": "code",
   "execution_count": 32,
   "metadata": {},
   "outputs": [
    {
     "name": "stderr",
     "output_type": "stream",
     "text": [
      "/var/folders/2x/dmnl4f2967d8j9l038tv_txw0000gn/T/ipykernel_69552/916057008.py:1: FutureWarning: Indexing with multiple keys (implicitly converted to a tuple of keys) will be deprecated, use a list instead.\n",
      "  data_2022_pre20_mean = weather_data[weather_data['Year']<'2022'].groupby(([pd.Grouper(key='day'),pd.Grouper(key='province')]))['TAVE_Celsius','PRCP_mm'].agg(custom_agg).reset_index()\n"
     ]
    }
   ],
   "source": [
    "data_2022_pre20_mean = weather_data[weather_data['Year']<'2022'].groupby(([pd.Grouper(key='day'),pd.Grouper(key='province')]))['TAVE_Celsius','PRCP_mm'].agg(custom_agg).reset_index()"
   ]
  },
  {
   "cell_type": "code",
   "execution_count": 37,
   "metadata": {},
   "outputs": [],
   "source": [
    "data_2022_pre20_mean['TAVE_Celsius_pre20_week_mean'] = data_2022_pre20_mean['TAVE_Celsius'].apply(lambda x: x[2])"
   ]
  },
  {
   "cell_type": "code",
   "execution_count": 35,
   "metadata": {},
   "outputs": [],
   "source": [
    "data_2022_pre20_mean['TAVE_Celsius_pre20_week_90quantile'] = data_2022_pre20_mean['TAVE_Celsius'].apply(lambda x: x[0])"
   ]
  },
  {
   "cell_type": "code",
   "execution_count": 36,
   "metadata": {},
   "outputs": [],
   "source": [
    "data_2022_pre20_mean['TAVE_Celsius_pre20_week_10quantile'] = data_2022_pre20_mean['TAVE_Celsius'].apply(lambda x: x[1])\n",
    "data_2022_pre20_mean['PRCP_pre20_week_mean'] = data_2022_pre20_mean['PRCP_mm'].apply(lambda x: x[2])\n",
    "data_2022_pre20_mean['PRCP_pre20_week_90quantile'] = data_2022_pre20_mean['PRCP_mm'].apply(lambda x: x[0])\n",
    "data_2022_pre20_mean['PRCP_pre20_week_10quantile'] = data_2022_pre20_mean['PRCP_mm'].apply(lambda x: x[1])"
   ]
  },
  {
   "cell_type": "code",
   "execution_count": 38,
   "metadata": {},
   "outputs": [
    {
     "name": "stderr",
     "output_type": "stream",
     "text": [
      "/var/folders/2x/dmnl4f2967d8j9l038tv_txw0000gn/T/ipykernel_69552/2657100252.py:1: FutureWarning: Indexing with multiple keys (implicitly converted to a tuple of keys) will be deprecated, use a list instead.\n",
      "  data_2023_pre20_mean = weather_data[(weather_data['Year']<'2023') & (weather_data['Year']>='2003')].groupby(([pd.Grouper(key='day'),pd.Grouper(key='province')]))['TAVE_Celsius','PRCP_mm'].agg(custom_agg).reset_index()\n"
     ]
    }
   ],
   "source": [
    "data_2023_pre20_mean = weather_data[(weather_data['Year']<'2023') & (weather_data['Year']>='2003')].groupby(([pd.Grouper(key='day'),pd.Grouper(key='province')]))['TAVE_Celsius','PRCP_mm'].agg(custom_agg).reset_index()"
   ]
  },
  {
   "cell_type": "code",
   "execution_count": 39,
   "metadata": {},
   "outputs": [],
   "source": [
    "data_2023_pre20_mean['TAVE_Celsius_pre20_week_mean'] = data_2023_pre20_mean['TAVE_Celsius'].apply(lambda x: x[2])"
   ]
  },
  {
   "cell_type": "code",
   "execution_count": 40,
   "metadata": {},
   "outputs": [],
   "source": [
    "data_2023_pre20_mean['TAVE_Celsius_pre20_week_90quantile'] = data_2023_pre20_mean['TAVE_Celsius'].apply(lambda x: x[0])"
   ]
  },
  {
   "cell_type": "code",
   "execution_count": 41,
   "metadata": {},
   "outputs": [],
   "source": [
    "data_2023_pre20_mean['TAVE_Celsius_pre20_week_10quantile'] = data_2023_pre20_mean['TAVE_Celsius'].apply(lambda x: x[1])"
   ]
  },
  {
   "cell_type": "code",
   "execution_count": 42,
   "metadata": {},
   "outputs": [],
   "source": [
    "data_2023_pre20_mean['PRCP_pre20_week_mean'] = data_2023_pre20_mean['PRCP_mm'].apply(lambda x: x[2])"
   ]
  },
  {
   "cell_type": "code",
   "execution_count": 43,
   "metadata": {},
   "outputs": [],
   "source": [
    "data_2023_pre20_mean['PRCP_pre20_week_90quantile'] = data_2023_pre20_mean['PRCP_mm'].apply(lambda x: x[0])"
   ]
  },
  {
   "cell_type": "code",
   "execution_count": 44,
   "metadata": {},
   "outputs": [],
   "source": [
    "data_2023_pre20_mean['PRCP_pre20_week_10quantile'] = data_2023_pre20_mean['PRCP_mm'].apply(lambda x: x[1])"
   ]
  },
  {
   "cell_type": "code",
   "execution_count": 46,
   "metadata": {},
   "outputs": [],
   "source": [
    "data_2023_pre20_mean = data_2023_pre20_mean.drop(columns=['TAVE_Celsius','PRCP_mm'])"
   ]
  },
  {
   "cell_type": "code",
   "execution_count": 47,
   "metadata": {},
   "outputs": [],
   "source": [
    "data_2022_pre20_mean = data_2022_pre20_mean.drop(columns=['TAVE_Celsius','PRCP_mm'])"
   ]
  },
  {
   "cell_type": "code",
   "execution_count": 48,
   "metadata": {},
   "outputs": [],
   "source": [
    "data_2022_join = weather_data[weather_data['Year']=='2022'].join(data_2022_pre20_mean.set_index(['day','province']), on=['day','province'],how='left')"
   ]
  },
  {
   "cell_type": "code",
   "execution_count": 49,
   "metadata": {},
   "outputs": [],
   "source": [
    "data_2023_join = weather_data[weather_data['Year']=='2023'].join(data_2023_pre20_mean.set_index(['day','province']), on=['day','province'],how='left')"
   ]
  },
  {
   "cell_type": "code",
   "execution_count": 50,
   "metadata": {},
   "outputs": [
    {
     "data": {
      "text/html": [
       "<div>\n",
       "<style scoped>\n",
       "    .dataframe tbody tr th:only-of-type {\n",
       "        vertical-align: middle;\n",
       "    }\n",
       "\n",
       "    .dataframe tbody tr th {\n",
       "        vertical-align: top;\n",
       "    }\n",
       "\n",
       "    .dataframe thead th {\n",
       "        text-align: right;\n",
       "    }\n",
       "</style>\n",
       "<table border=\"1\" class=\"dataframe\">\n",
       "  <thead>\n",
       "    <tr style=\"text-align: right;\">\n",
       "      <th></th>\n",
       "      <th>Unnamed: 0</th>\n",
       "      <th>DATE</th>\n",
       "      <th>province</th>\n",
       "      <th>TMAX_Celsius</th>\n",
       "      <th>TMIN_Celsius</th>\n",
       "      <th>TAVE_Celsius</th>\n",
       "      <th>PRCP_mm</th>\n",
       "      <th>Year</th>\n",
       "      <th>day</th>\n",
       "      <th>TAVE_Celsius_pre20_week_mean</th>\n",
       "      <th>TAVE_Celsius_pre20_week_90quantile</th>\n",
       "      <th>TAVE_Celsius_pre20_week_10quantile</th>\n",
       "      <th>PRCP_pre20_week_mean</th>\n",
       "      <th>PRCP_pre20_week_90quantile</th>\n",
       "      <th>PRCP_pre20_week_10quantile</th>\n",
       "    </tr>\n",
       "  </thead>\n",
       "  <tbody>\n",
       "    <tr>\n",
       "      <th>210171</th>\n",
       "      <td>210171</td>\n",
       "      <td>2023-01-01</td>\n",
       "      <td>上海市</td>\n",
       "      <td>10.000000</td>\n",
       "      <td>-1.111111</td>\n",
       "      <td>4.444444</td>\n",
       "      <td>0.000000</td>\n",
       "      <td>2023</td>\n",
       "      <td>01-01</td>\n",
       "      <td>3.769841</td>\n",
       "      <td>8.472222</td>\n",
       "      <td>-0.194444</td>\n",
       "      <td>0.582083</td>\n",
       "      <td>0.228600</td>\n",
       "      <td>0.000000</td>\n",
       "    </tr>\n",
       "    <tr>\n",
       "      <th>210172</th>\n",
       "      <td>210172</td>\n",
       "      <td>2023-01-01</td>\n",
       "      <td>云南省</td>\n",
       "      <td>14.652778</td>\n",
       "      <td>4.722222</td>\n",
       "      <td>9.687500</td>\n",
       "      <td>1.111250</td>\n",
       "      <td>2023</td>\n",
       "      <td>01-01</td>\n",
       "      <td>11.471590</td>\n",
       "      <td>14.777778</td>\n",
       "      <td>9.257937</td>\n",
       "      <td>0.617569</td>\n",
       "      <td>0.762000</td>\n",
       "      <td>0.000000</td>\n",
       "    </tr>\n",
       "    <tr>\n",
       "      <th>210173</th>\n",
       "      <td>210173</td>\n",
       "      <td>2023-01-01</td>\n",
       "      <td>内蒙古自治区 ᠦᠪᠦᠷ ᠮᠣᠩᠭᠤᠯ ᠤᠨ ᠥᠪᠡᠷᠲᠡᠭᠡᠨ ᠵᠠᠰᠠᠬᠣ ᠣᠷᠣᠨ</td>\n",
       "      <td>-7.222222</td>\n",
       "      <td>-21.736111</td>\n",
       "      <td>-14.479167</td>\n",
       "      <td>0.000000</td>\n",
       "      <td>2023</td>\n",
       "      <td>01-01</td>\n",
       "      <td>-14.683112</td>\n",
       "      <td>-8.370370</td>\n",
       "      <td>-19.787273</td>\n",
       "      <td>0.302268</td>\n",
       "      <td>0.635000</td>\n",
       "      <td>0.000000</td>\n",
       "    </tr>\n",
       "    <tr>\n",
       "      <th>210174</th>\n",
       "      <td>210174</td>\n",
       "      <td>2023-01-01</td>\n",
       "      <td>吉林省</td>\n",
       "      <td>-3.518519</td>\n",
       "      <td>-19.814815</td>\n",
       "      <td>-11.666667</td>\n",
       "      <td>0.000000</td>\n",
       "      <td>2023</td>\n",
       "      <td>01-01</td>\n",
       "      <td>-14.417438</td>\n",
       "      <td>-7.243056</td>\n",
       "      <td>-19.152778</td>\n",
       "      <td>0.051405</td>\n",
       "      <td>0.203200</td>\n",
       "      <td>0.000000</td>\n",
       "    </tr>\n",
       "    <tr>\n",
       "      <th>210175</th>\n",
       "      <td>210175</td>\n",
       "      <td>2023-01-01</td>\n",
       "      <td>四川省</td>\n",
       "      <td>8.842593</td>\n",
       "      <td>-3.101852</td>\n",
       "      <td>2.870370</td>\n",
       "      <td>0.571500</td>\n",
       "      <td>2023</td>\n",
       "      <td>01-01</td>\n",
       "      <td>3.318434</td>\n",
       "      <td>4.974747</td>\n",
       "      <td>0.935606</td>\n",
       "      <td>0.694878</td>\n",
       "      <td>1.194570</td>\n",
       "      <td>0.005080</td>\n",
       "    </tr>\n",
       "    <tr>\n",
       "      <th>...</th>\n",
       "      <td>...</td>\n",
       "      <td>...</td>\n",
       "      <td>...</td>\n",
       "      <td>...</td>\n",
       "      <td>...</td>\n",
       "      <td>...</td>\n",
       "      <td>...</td>\n",
       "      <td>...</td>\n",
       "      <td>...</td>\n",
       "      <td>...</td>\n",
       "      <td>...</td>\n",
       "      <td>...</td>\n",
       "      <td>...</td>\n",
       "      <td>...</td>\n",
       "      <td>...</td>\n",
       "    </tr>\n",
       "    <tr>\n",
       "      <th>216471</th>\n",
       "      <td>216471</td>\n",
       "      <td>2023-07-31</td>\n",
       "      <td>辽宁省</td>\n",
       "      <td>31.759259</td>\n",
       "      <td>22.037037</td>\n",
       "      <td>26.898148</td>\n",
       "      <td>0.000000</td>\n",
       "      <td>2023</td>\n",
       "      <td>07-31</td>\n",
       "      <td>25.531481</td>\n",
       "      <td>27.958333</td>\n",
       "      <td>23.440476</td>\n",
       "      <td>7.288092</td>\n",
       "      <td>17.547771</td>\n",
       "      <td>0.263676</td>\n",
       "    </tr>\n",
       "    <tr>\n",
       "      <th>216472</th>\n",
       "      <td>216472</td>\n",
       "      <td>2023-07-31</td>\n",
       "      <td>重庆市</td>\n",
       "      <td>31.666667</td>\n",
       "      <td>22.777778</td>\n",
       "      <td>27.222222</td>\n",
       "      <td>8.382000</td>\n",
       "      <td>2023</td>\n",
       "      <td>07-31</td>\n",
       "      <td>28.768519</td>\n",
       "      <td>30.833333</td>\n",
       "      <td>27.055556</td>\n",
       "      <td>3.048000</td>\n",
       "      <td>8.229600</td>\n",
       "      <td>0.000000</td>\n",
       "    </tr>\n",
       "    <tr>\n",
       "      <th>216473</th>\n",
       "      <td>216473</td>\n",
       "      <td>2023-07-31</td>\n",
       "      <td>陕西省</td>\n",
       "      <td>29.629630</td>\n",
       "      <td>20.925926</td>\n",
       "      <td>25.277778</td>\n",
       "      <td>3.302000</td>\n",
       "      <td>2023</td>\n",
       "      <td>07-31</td>\n",
       "      <td>25.722222</td>\n",
       "      <td>28.166667</td>\n",
       "      <td>23.291667</td>\n",
       "      <td>3.756378</td>\n",
       "      <td>7.950200</td>\n",
       "      <td>0.000000</td>\n",
       "    </tr>\n",
       "    <tr>\n",
       "      <th>216474</th>\n",
       "      <td>216474</td>\n",
       "      <td>2023-07-31</td>\n",
       "      <td>青海省</td>\n",
       "      <td>23.750000</td>\n",
       "      <td>8.564815</td>\n",
       "      <td>16.157407</td>\n",
       "      <td>1.312333</td>\n",
       "      <td>2023</td>\n",
       "      <td>07-31</td>\n",
       "      <td>13.881400</td>\n",
       "      <td>16.060185</td>\n",
       "      <td>11.472222</td>\n",
       "      <td>2.027767</td>\n",
       "      <td>4.406900</td>\n",
       "      <td>0.059267</td>\n",
       "    </tr>\n",
       "    <tr>\n",
       "      <th>216475</th>\n",
       "      <td>216475</td>\n",
       "      <td>2023-07-31</td>\n",
       "      <td>黑龙江省</td>\n",
       "      <td>30.481481</td>\n",
       "      <td>18.777778</td>\n",
       "      <td>24.629630</td>\n",
       "      <td>0.000000</td>\n",
       "      <td>2023</td>\n",
       "      <td>07-31</td>\n",
       "      <td>22.591138</td>\n",
       "      <td>24.398810</td>\n",
       "      <td>20.716667</td>\n",
       "      <td>7.227979</td>\n",
       "      <td>17.233900</td>\n",
       "      <td>0.000000</td>\n",
       "    </tr>\n",
       "  </tbody>\n",
       "</table>\n",
       "<p>6305 rows × 15 columns</p>\n",
       "</div>"
      ],
      "text/plain": [
       "        Unnamed: 0        DATE                                     province  \\\n",
       "210171      210171  2023-01-01                                          上海市   \n",
       "210172      210172  2023-01-01                                          云南省   \n",
       "210173      210173  2023-01-01  内蒙古自治区 ᠦᠪᠦᠷ ᠮᠣᠩᠭᠤᠯ ᠤᠨ ᠥᠪᠡᠷᠲᠡᠭᠡᠨ ᠵᠠᠰᠠᠬᠣ ᠣᠷᠣᠨ   \n",
       "210174      210174  2023-01-01                                          吉林省   \n",
       "210175      210175  2023-01-01                                          四川省   \n",
       "...            ...         ...                                          ...   \n",
       "216471      216471  2023-07-31                                          辽宁省   \n",
       "216472      216472  2023-07-31                                          重庆市   \n",
       "216473      216473  2023-07-31                                          陕西省   \n",
       "216474      216474  2023-07-31                                          青海省   \n",
       "216475      216475  2023-07-31                                         黑龙江省   \n",
       "\n",
       "        TMAX_Celsius  TMIN_Celsius  TAVE_Celsius   PRCP_mm  Year    day  \\\n",
       "210171     10.000000     -1.111111      4.444444  0.000000  2023  01-01   \n",
       "210172     14.652778      4.722222      9.687500  1.111250  2023  01-01   \n",
       "210173     -7.222222    -21.736111    -14.479167  0.000000  2023  01-01   \n",
       "210174     -3.518519    -19.814815    -11.666667  0.000000  2023  01-01   \n",
       "210175      8.842593     -3.101852      2.870370  0.571500  2023  01-01   \n",
       "...              ...           ...           ...       ...   ...    ...   \n",
       "216471     31.759259     22.037037     26.898148  0.000000  2023  07-31   \n",
       "216472     31.666667     22.777778     27.222222  8.382000  2023  07-31   \n",
       "216473     29.629630     20.925926     25.277778  3.302000  2023  07-31   \n",
       "216474     23.750000      8.564815     16.157407  1.312333  2023  07-31   \n",
       "216475     30.481481     18.777778     24.629630  0.000000  2023  07-31   \n",
       "\n",
       "        TAVE_Celsius_pre20_week_mean  TAVE_Celsius_pre20_week_90quantile  \\\n",
       "210171                      3.769841                            8.472222   \n",
       "210172                     11.471590                           14.777778   \n",
       "210173                    -14.683112                           -8.370370   \n",
       "210174                    -14.417438                           -7.243056   \n",
       "210175                      3.318434                            4.974747   \n",
       "...                              ...                                 ...   \n",
       "216471                     25.531481                           27.958333   \n",
       "216472                     28.768519                           30.833333   \n",
       "216473                     25.722222                           28.166667   \n",
       "216474                     13.881400                           16.060185   \n",
       "216475                     22.591138                           24.398810   \n",
       "\n",
       "        TAVE_Celsius_pre20_week_10quantile  PRCP_pre20_week_mean  \\\n",
       "210171                           -0.194444              0.582083   \n",
       "210172                            9.257937              0.617569   \n",
       "210173                          -19.787273              0.302268   \n",
       "210174                          -19.152778              0.051405   \n",
       "210175                            0.935606              0.694878   \n",
       "...                                    ...                   ...   \n",
       "216471                           23.440476              7.288092   \n",
       "216472                           27.055556              3.048000   \n",
       "216473                           23.291667              3.756378   \n",
       "216474                           11.472222              2.027767   \n",
       "216475                           20.716667              7.227979   \n",
       "\n",
       "        PRCP_pre20_week_90quantile  PRCP_pre20_week_10quantile  \n",
       "210171                    0.228600                    0.000000  \n",
       "210172                    0.762000                    0.000000  \n",
       "210173                    0.635000                    0.000000  \n",
       "210174                    0.203200                    0.000000  \n",
       "210175                    1.194570                    0.005080  \n",
       "...                            ...                         ...  \n",
       "216471                   17.547771                    0.263676  \n",
       "216472                    8.229600                    0.000000  \n",
       "216473                    7.950200                    0.000000  \n",
       "216474                    4.406900                    0.059267  \n",
       "216475                   17.233900                    0.000000  \n",
       "\n",
       "[6305 rows x 15 columns]"
      ]
     },
     "execution_count": 50,
     "metadata": {},
     "output_type": "execute_result"
    }
   ],
   "source": [
    "data_2023_join"
   ]
  },
  {
   "cell_type": "code",
   "execution_count": 51,
   "metadata": {},
   "outputs": [],
   "source": [
    "weather_data_join = data_2022_join.append(data_2023_join)"
   ]
  },
  {
   "cell_type": "code",
   "execution_count": 52,
   "metadata": {},
   "outputs": [
    {
     "data": {
      "text/html": [
       "<div>\n",
       "<style scoped>\n",
       "    .dataframe tbody tr th:only-of-type {\n",
       "        vertical-align: middle;\n",
       "    }\n",
       "\n",
       "    .dataframe tbody tr th {\n",
       "        vertical-align: top;\n",
       "    }\n",
       "\n",
       "    .dataframe thead th {\n",
       "        text-align: right;\n",
       "    }\n",
       "</style>\n",
       "<table border=\"1\" class=\"dataframe\">\n",
       "  <thead>\n",
       "    <tr style=\"text-align: right;\">\n",
       "      <th></th>\n",
       "      <th>Unnamed: 0</th>\n",
       "      <th>DATE</th>\n",
       "      <th>province</th>\n",
       "      <th>TMAX_Celsius</th>\n",
       "      <th>TMIN_Celsius</th>\n",
       "      <th>TAVE_Celsius</th>\n",
       "      <th>PRCP_mm</th>\n",
       "      <th>Year</th>\n",
       "      <th>day</th>\n",
       "      <th>TAVE_Celsius_pre20_week_mean</th>\n",
       "      <th>TAVE_Celsius_pre20_week_90quantile</th>\n",
       "      <th>TAVE_Celsius_pre20_week_10quantile</th>\n",
       "      <th>PRCP_pre20_week_mean</th>\n",
       "      <th>PRCP_pre20_week_90quantile</th>\n",
       "      <th>PRCP_pre20_week_10quantile</th>\n",
       "    </tr>\n",
       "  </thead>\n",
       "  <tbody>\n",
       "    <tr>\n",
       "      <th>199068</th>\n",
       "      <td>199068</td>\n",
       "      <td>2022-01-01</td>\n",
       "      <td>云南省</td>\n",
       "      <td>17.777778</td>\n",
       "      <td>4.652778</td>\n",
       "      <td>11.215278</td>\n",
       "      <td>0.000000</td>\n",
       "      <td>2022</td>\n",
       "      <td>01-01</td>\n",
       "      <td>11.410877</td>\n",
       "      <td>14.777778</td>\n",
       "      <td>9.257937</td>\n",
       "      <td>0.617569</td>\n",
       "      <td>0.762000</td>\n",
       "      <td>0.000000</td>\n",
       "    </tr>\n",
       "    <tr>\n",
       "      <th>199069</th>\n",
       "      <td>199069</td>\n",
       "      <td>2022-01-01</td>\n",
       "      <td>内蒙古自治区 ᠦᠪᠦᠷ ᠮᠣᠩᠭᠤᠯ ᠤᠨ ᠥᠪᠡᠷᠲᠡᠭᠡᠨ ᠵᠠᠰᠠᠬᠣ ᠣᠷᠣᠨ</td>\n",
       "      <td>-5.439815</td>\n",
       "      <td>-21.736111</td>\n",
       "      <td>-13.587963</td>\n",
       "      <td>0.190500</td>\n",
       "      <td>2022</td>\n",
       "      <td>01-01</td>\n",
       "      <td>-14.759184</td>\n",
       "      <td>-8.370370</td>\n",
       "      <td>-19.787273</td>\n",
       "      <td>0.291684</td>\n",
       "      <td>0.635000</td>\n",
       "      <td>0.000000</td>\n",
       "    </tr>\n",
       "    <tr>\n",
       "      <th>199070</th>\n",
       "      <td>199070</td>\n",
       "      <td>2022-01-01</td>\n",
       "      <td>吉林省</td>\n",
       "      <td>-7.962963</td>\n",
       "      <td>-22.037037</td>\n",
       "      <td>-15.000000</td>\n",
       "      <td>0.084667</td>\n",
       "      <td>2022</td>\n",
       "      <td>01-01</td>\n",
       "      <td>-14.490741</td>\n",
       "      <td>-7.243056</td>\n",
       "      <td>-19.152778</td>\n",
       "      <td>0.045357</td>\n",
       "      <td>0.196850</td>\n",
       "      <td>0.000000</td>\n",
       "    </tr>\n",
       "    <tr>\n",
       "      <th>199071</th>\n",
       "      <td>199071</td>\n",
       "      <td>2022-01-01</td>\n",
       "      <td>四川省</td>\n",
       "      <td>9.861111</td>\n",
       "      <td>-4.583333</td>\n",
       "      <td>2.638889</td>\n",
       "      <td>5.559778</td>\n",
       "      <td>2022</td>\n",
       "      <td>01-01</td>\n",
       "      <td>3.250147</td>\n",
       "      <td>4.974747</td>\n",
       "      <td>0.935606</td>\n",
       "      <td>0.267203</td>\n",
       "      <td>0.955579</td>\n",
       "      <td>0.000000</td>\n",
       "    </tr>\n",
       "    <tr>\n",
       "      <th>199072</th>\n",
       "      <td>199072</td>\n",
       "      <td>2022-01-01</td>\n",
       "      <td>天津市</td>\n",
       "      <td>6.111111</td>\n",
       "      <td>-6.666667</td>\n",
       "      <td>-0.277778</td>\n",
       "      <td>0.000000</td>\n",
       "      <td>2022</td>\n",
       "      <td>01-01</td>\n",
       "      <td>-3.006536</td>\n",
       "      <td>0.388889</td>\n",
       "      <td>-5.555556</td>\n",
       "      <td>0.000000</td>\n",
       "      <td>0.000000</td>\n",
       "      <td>0.000000</td>\n",
       "    </tr>\n",
       "    <tr>\n",
       "      <th>...</th>\n",
       "      <td>...</td>\n",
       "      <td>...</td>\n",
       "      <td>...</td>\n",
       "      <td>...</td>\n",
       "      <td>...</td>\n",
       "      <td>...</td>\n",
       "      <td>...</td>\n",
       "      <td>...</td>\n",
       "      <td>...</td>\n",
       "      <td>...</td>\n",
       "      <td>...</td>\n",
       "      <td>...</td>\n",
       "      <td>...</td>\n",
       "      <td>...</td>\n",
       "      <td>...</td>\n",
       "    </tr>\n",
       "    <tr>\n",
       "      <th>216471</th>\n",
       "      <td>216471</td>\n",
       "      <td>2023-07-31</td>\n",
       "      <td>辽宁省</td>\n",
       "      <td>31.759259</td>\n",
       "      <td>22.037037</td>\n",
       "      <td>26.898148</td>\n",
       "      <td>0.000000</td>\n",
       "      <td>2023</td>\n",
       "      <td>07-31</td>\n",
       "      <td>25.531481</td>\n",
       "      <td>27.958333</td>\n",
       "      <td>23.440476</td>\n",
       "      <td>7.288092</td>\n",
       "      <td>17.547771</td>\n",
       "      <td>0.263676</td>\n",
       "    </tr>\n",
       "    <tr>\n",
       "      <th>216472</th>\n",
       "      <td>216472</td>\n",
       "      <td>2023-07-31</td>\n",
       "      <td>重庆市</td>\n",
       "      <td>31.666667</td>\n",
       "      <td>22.777778</td>\n",
       "      <td>27.222222</td>\n",
       "      <td>8.382000</td>\n",
       "      <td>2023</td>\n",
       "      <td>07-31</td>\n",
       "      <td>28.768519</td>\n",
       "      <td>30.833333</td>\n",
       "      <td>27.055556</td>\n",
       "      <td>3.048000</td>\n",
       "      <td>8.229600</td>\n",
       "      <td>0.000000</td>\n",
       "    </tr>\n",
       "    <tr>\n",
       "      <th>216473</th>\n",
       "      <td>216473</td>\n",
       "      <td>2023-07-31</td>\n",
       "      <td>陕西省</td>\n",
       "      <td>29.629630</td>\n",
       "      <td>20.925926</td>\n",
       "      <td>25.277778</td>\n",
       "      <td>3.302000</td>\n",
       "      <td>2023</td>\n",
       "      <td>07-31</td>\n",
       "      <td>25.722222</td>\n",
       "      <td>28.166667</td>\n",
       "      <td>23.291667</td>\n",
       "      <td>3.756378</td>\n",
       "      <td>7.950200</td>\n",
       "      <td>0.000000</td>\n",
       "    </tr>\n",
       "    <tr>\n",
       "      <th>216474</th>\n",
       "      <td>216474</td>\n",
       "      <td>2023-07-31</td>\n",
       "      <td>青海省</td>\n",
       "      <td>23.750000</td>\n",
       "      <td>8.564815</td>\n",
       "      <td>16.157407</td>\n",
       "      <td>1.312333</td>\n",
       "      <td>2023</td>\n",
       "      <td>07-31</td>\n",
       "      <td>13.881400</td>\n",
       "      <td>16.060185</td>\n",
       "      <td>11.472222</td>\n",
       "      <td>2.027767</td>\n",
       "      <td>4.406900</td>\n",
       "      <td>0.059267</td>\n",
       "    </tr>\n",
       "    <tr>\n",
       "      <th>216475</th>\n",
       "      <td>216475</td>\n",
       "      <td>2023-07-31</td>\n",
       "      <td>黑龙江省</td>\n",
       "      <td>30.481481</td>\n",
       "      <td>18.777778</td>\n",
       "      <td>24.629630</td>\n",
       "      <td>0.000000</td>\n",
       "      <td>2023</td>\n",
       "      <td>07-31</td>\n",
       "      <td>22.591138</td>\n",
       "      <td>24.398810</td>\n",
       "      <td>20.716667</td>\n",
       "      <td>7.227979</td>\n",
       "      <td>17.233900</td>\n",
       "      <td>0.000000</td>\n",
       "    </tr>\n",
       "  </tbody>\n",
       "</table>\n",
       "<p>17408 rows × 15 columns</p>\n",
       "</div>"
      ],
      "text/plain": [
       "        Unnamed: 0        DATE                                     province  \\\n",
       "199068      199068  2022-01-01                                          云南省   \n",
       "199069      199069  2022-01-01  内蒙古自治区 ᠦᠪᠦᠷ ᠮᠣᠩᠭᠤᠯ ᠤᠨ ᠥᠪᠡᠷᠲᠡᠭᠡᠨ ᠵᠠᠰᠠᠬᠣ ᠣᠷᠣᠨ   \n",
       "199070      199070  2022-01-01                                          吉林省   \n",
       "199071      199071  2022-01-01                                          四川省   \n",
       "199072      199072  2022-01-01                                          天津市   \n",
       "...            ...         ...                                          ...   \n",
       "216471      216471  2023-07-31                                          辽宁省   \n",
       "216472      216472  2023-07-31                                          重庆市   \n",
       "216473      216473  2023-07-31                                          陕西省   \n",
       "216474      216474  2023-07-31                                          青海省   \n",
       "216475      216475  2023-07-31                                         黑龙江省   \n",
       "\n",
       "        TMAX_Celsius  TMIN_Celsius  TAVE_Celsius   PRCP_mm  Year    day  \\\n",
       "199068     17.777778      4.652778     11.215278  0.000000  2022  01-01   \n",
       "199069     -5.439815    -21.736111    -13.587963  0.190500  2022  01-01   \n",
       "199070     -7.962963    -22.037037    -15.000000  0.084667  2022  01-01   \n",
       "199071      9.861111     -4.583333      2.638889  5.559778  2022  01-01   \n",
       "199072      6.111111     -6.666667     -0.277778  0.000000  2022  01-01   \n",
       "...              ...           ...           ...       ...   ...    ...   \n",
       "216471     31.759259     22.037037     26.898148  0.000000  2023  07-31   \n",
       "216472     31.666667     22.777778     27.222222  8.382000  2023  07-31   \n",
       "216473     29.629630     20.925926     25.277778  3.302000  2023  07-31   \n",
       "216474     23.750000      8.564815     16.157407  1.312333  2023  07-31   \n",
       "216475     30.481481     18.777778     24.629630  0.000000  2023  07-31   \n",
       "\n",
       "        TAVE_Celsius_pre20_week_mean  TAVE_Celsius_pre20_week_90quantile  \\\n",
       "199068                     11.410877                           14.777778   \n",
       "199069                    -14.759184                           -8.370370   \n",
       "199070                    -14.490741                           -7.243056   \n",
       "199071                      3.250147                            4.974747   \n",
       "199072                     -3.006536                            0.388889   \n",
       "...                              ...                                 ...   \n",
       "216471                     25.531481                           27.958333   \n",
       "216472                     28.768519                           30.833333   \n",
       "216473                     25.722222                           28.166667   \n",
       "216474                     13.881400                           16.060185   \n",
       "216475                     22.591138                           24.398810   \n",
       "\n",
       "        TAVE_Celsius_pre20_week_10quantile  PRCP_pre20_week_mean  \\\n",
       "199068                            9.257937              0.617569   \n",
       "199069                          -19.787273              0.291684   \n",
       "199070                          -19.152778              0.045357   \n",
       "199071                            0.935606              0.267203   \n",
       "199072                           -5.555556              0.000000   \n",
       "...                                    ...                   ...   \n",
       "216471                           23.440476              7.288092   \n",
       "216472                           27.055556              3.048000   \n",
       "216473                           23.291667              3.756378   \n",
       "216474                           11.472222              2.027767   \n",
       "216475                           20.716667              7.227979   \n",
       "\n",
       "        PRCP_pre20_week_90quantile  PRCP_pre20_week_10quantile  \n",
       "199068                    0.762000                    0.000000  \n",
       "199069                    0.635000                    0.000000  \n",
       "199070                    0.196850                    0.000000  \n",
       "199071                    0.955579                    0.000000  \n",
       "199072                    0.000000                    0.000000  \n",
       "...                            ...                         ...  \n",
       "216471                   17.547771                    0.263676  \n",
       "216472                    8.229600                    0.000000  \n",
       "216473                    7.950200                    0.000000  \n",
       "216474                    4.406900                    0.059267  \n",
       "216475                   17.233900                    0.000000  \n",
       "\n",
       "[17408 rows x 15 columns]"
      ]
     },
     "execution_count": 52,
     "metadata": {},
     "output_type": "execute_result"
    }
   ],
   "source": [
    "weather_data_join"
   ]
  },
  {
   "cell_type": "code",
   "execution_count": 53,
   "metadata": {},
   "outputs": [],
   "source": [
    "weather_data_join['extreme_hot'] = weather_data_join['TAVE_Celsius'] > weather_data_join['TAVE_Celsius_pre20_week_90quantile']"
   ]
  },
  {
   "cell_type": "code",
   "execution_count": 54,
   "metadata": {},
   "outputs": [],
   "source": [
    "weather_data_join['extreme_cold'] = weather_data_join['TAVE_Celsius'] < weather_data_join['TAVE_Celsius_pre20_week_10quantile']"
   ]
  },
  {
   "cell_type": "code",
   "execution_count": 55,
   "metadata": {},
   "outputs": [],
   "source": [
    "weather_data_join['extreme_dry'] = weather_data_join['PRCP_mm'] < weather_data_join['PRCP_pre20_week_10quantile']"
   ]
  },
  {
   "cell_type": "code",
   "execution_count": 56,
   "metadata": {},
   "outputs": [],
   "source": [
    "weather_data_join['extreme_wet'] = weather_data_join['PRCP_mm'] > weather_data_join['PRCP_pre20_week_90quantile']"
   ]
  },
  {
   "cell_type": "code",
   "execution_count": 57,
   "metadata": {},
   "outputs": [],
   "source": [
    "weather_data_join['TAVE_DIFF'] = weather_data_join['TAVE_Celsius'] - weather_data_join['TAVE_Celsius_pre20_week_mean']"
   ]
  },
  {
   "cell_type": "code",
   "execution_count": 58,
   "metadata": {},
   "outputs": [],
   "source": [
    "weather_data_join['PRCP_DIFF'] = weather_data_join['PRCP_mm'] - weather_data_join['PRCP_pre20_week_mean']"
   ]
  },
  {
   "cell_type": "code",
   "execution_count": 62,
   "metadata": {},
   "outputs": [],
   "source": [
    "weather_data_join['province'] = weather_data_join['province'].apply(lambda x: x.replace('省',''))"
   ]
  },
  {
   "cell_type": "code",
   "execution_count": 63,
   "metadata": {},
   "outputs": [],
   "source": [
    "weather_data_join['province'] = weather_data_join['province'].apply(lambda x: x.replace('市',''))"
   ]
  },
  {
   "cell_type": "markdown",
   "metadata": {},
   "source": [
    "## replace tag names"
   ]
  },
  {
   "cell_type": "code",
   "execution_count": 65,
   "metadata": {},
   "outputs": [],
   "source": [
    "province_tag = {\n",
    "    '内蒙古自治区 ᠦᠪᠦᠷ ᠮᠣᠩᠭᠤᠯ ᠤᠨ ᠥᠪᠡᠷᠲᠡᠭᠡᠨ ᠵᠠᠰᠠᠬᠣ ᠣᠷᠣᠨ':'内蒙古',\n",
    "    '广西壮族自治区':'广西',\n",
    "    '宁夏回族自治区':'宁夏',\n",
    "    '新疆维吾尔自治区 شىنجاڭ ئۇيغۇر ئاپتونوم رايونی':'新疆',\n",
    "     '西藏自治区 བོད་རང་སྐྱོང་ལྗོངས།':'西藏',\n",
    "    '澳門 Macau':'中国澳门',\n",
    "\n",
    "}"
   ]
  },
  {
   "cell_type": "code",
   "execution_count": 66,
   "metadata": {},
   "outputs": [],
   "source": [
    "weather_data_join['province'] = weather_data_join['province'].replace(province_tag)"
   ]
  },
  {
   "cell_type": "code",
   "execution_count": 68,
   "metadata": {},
   "outputs": [],
   "source": [
    "remove_list = [ '中国台湾','中国澳门','中国香港']"
   ]
  },
  {
   "cell_type": "code",
   "execution_count": 69,
   "metadata": {},
   "outputs": [],
   "source": [
    "weather_data_drop = weather_data_join[~weather_data_join['province'].isin(remove_list)].copy()"
   ]
  },
  {
   "cell_type": "code",
   "execution_count": 71,
   "metadata": {},
   "outputs": [],
   "source": [
    "weather_data_drop = weather_data_drop.rename(columns={'province':'ip'})"
   ]
  },
  {
   "cell_type": "code",
   "execution_count": 216,
   "metadata": {},
   "outputs": [],
   "source": [
    "data_drop3['Year'] = data_drop3['publish_time'].dt.year"
   ]
  },
  {
   "cell_type": "code",
   "execution_count": 217,
   "metadata": {},
   "outputs": [
    {
     "data": {
      "text/plain": [
       "154    2022-05-01 07:04:00\n",
       "156    2022-05-01 07:15:00\n",
       "157    2022-05-01 07:38:00\n",
       "158    2022-05-01 07:43:00\n",
       "Name: publish_time, dtype: object"
      ]
     },
     "execution_count": 217,
     "metadata": {},
     "output_type": "execute_result"
    }
   ],
   "source": [
    "data_drop3['publish_time'].astype(str)[5:9]"
   ]
  },
  {
   "cell_type": "code",
   "execution_count": 218,
   "metadata": {},
   "outputs": [],
   "source": [
    "data_drop3['day'] = data_drop3['publish_time'].apply(lambda x:str(x)[5:10])"
   ]
  },
  {
   "cell_type": "code",
   "execution_count": 220,
   "metadata": {},
   "outputs": [],
   "source": [
    "data_drop3['Year'] = data_drop3['Year'].astype(str)"
   ]
  },
  {
   "cell_type": "markdown",
   "metadata": {},
   "source": [
    "## join weather data with weibo data"
   ]
  },
  {
   "cell_type": "code",
   "execution_count": 238,
   "metadata": {},
   "outputs": [],
   "source": [
    "emo_weather_join = data_drop3.set_index(['Year','day','ip']).join(weather_data_drop.set_index(['Year','day','ip']), on=['Year','day','ip'], how='left').reset_index()"
   ]
  },
  {
   "cell_type": "code",
   "execution_count": 239,
   "metadata": {},
   "outputs": [],
   "source": [
    "emo_weather_join2 = emo_weather_join[emo_weather_join['TAVE_Celsius'].notna()].copy()"
   ]
  },
  {
   "cell_type": "code",
   "execution_count": 241,
   "metadata": {},
   "outputs": [],
   "source": [
    "emo_weather_join2['thinking_style'] = emo_weather_join2['analytical_thinking'] - emo_weather_join2['cogproc']"
   ]
  },
  {
   "cell_type": "markdown",
   "metadata": {},
   "source": [
    "## calculating correlations between measures"
   ]
  },
  {
   "cell_type": "code",
   "execution_count": 243,
   "metadata": {},
   "outputs": [],
   "source": [
    "emo_corr = emo_weather_join2[(emo_weather_join2['emotional_well_being']>-40) & (emo_weather_join2['emotional_well_being']<40)].copy()"
   ]
  },
  {
   "cell_type": "code",
   "execution_count": 244,
   "metadata": {},
   "outputs": [],
   "source": [
    "measures = emo_corr[['extreme_hot', 'extreme_cold', 'extreme_dry', 'extreme_wet',\n",
    "       'TAVE_DIFF', 'PRCP_DIFF', 'emotional_well_being','anger','anx', 'sad','affiliation',\n",
    "       'thinking_style','somatosensory','pro_environment']].copy()"
   ]
  },
  {
   "cell_type": "code",
   "execution_count": 544,
   "metadata": {},
   "outputs": [],
   "source": [
    "measures.columns = ['Extreme hot days (a)', 'Extreme cold days (a)', 'Extreme dry days (a)', 'Extreme wet days (a)',\n",
    "       'Temperature change in Degree Celsius (b)', 'Precipitation change in Millimeter (b)', 'Emotional well-being (b)',\n",
    "       'Anger (b)','Anxiety (b)', 'Sadness (b)','Social affiliations (b)','Analytical-Intuitive thinking style (b)','Somatosensory experiences (b)','Pro-environment tendency (a)']"
   ]
  },
  {
   "cell_type": "code",
   "execution_count": 545,
   "metadata": {},
   "outputs": [],
   "source": [
    "measures = measures.replace({True:1, False:0})"
   ]
  },
  {
   "cell_type": "code",
   "execution_count": 546,
   "metadata": {},
   "outputs": [
    {
     "data": {
      "text/html": [
       "<div>\n",
       "<style scoped>\n",
       "    .dataframe tbody tr th:only-of-type {\n",
       "        vertical-align: middle;\n",
       "    }\n",
       "\n",
       "    .dataframe tbody tr th {\n",
       "        vertical-align: top;\n",
       "    }\n",
       "\n",
       "    .dataframe thead th {\n",
       "        text-align: right;\n",
       "    }\n",
       "</style>\n",
       "<table border=\"1\" class=\"dataframe\">\n",
       "  <thead>\n",
       "    <tr style=\"text-align: right;\">\n",
       "      <th></th>\n",
       "      <th>Extreme hot days (a)</th>\n",
       "      <th>Extreme cold days (a)</th>\n",
       "      <th>Extreme dry days (a)</th>\n",
       "      <th>Extreme wet days (a)</th>\n",
       "      <th>Temperature change in Degree Celsius (b)</th>\n",
       "      <th>Precipitation change in Millimeter (b)</th>\n",
       "      <th>Emotional well-being (b)</th>\n",
       "      <th>Anger (b)</th>\n",
       "      <th>Anxiety (b)</th>\n",
       "      <th>Sadness (b)</th>\n",
       "      <th>Social affiliations (b)</th>\n",
       "      <th>Analytical-Intuitive thinking style (b)</th>\n",
       "      <th>Somatosensory experiences (b)</th>\n",
       "      <th>Pro-environment tendency (a)</th>\n",
       "    </tr>\n",
       "  </thead>\n",
       "  <tbody>\n",
       "    <tr>\n",
       "      <th>Extreme hot days (a)</th>\n",
       "      <td>1.000000</td>\n",
       "      <td>-0.198871</td>\n",
       "      <td>0.113672</td>\n",
       "      <td>-0.045471</td>\n",
       "      <td>0.663616</td>\n",
       "      <td>-0.109199</td>\n",
       "      <td>-0.052908</td>\n",
       "      <td>0.028601</td>\n",
       "      <td>0.015915</td>\n",
       "      <td>0.021201</td>\n",
       "      <td>-0.056911</td>\n",
       "      <td>-0.051747</td>\n",
       "      <td>0.017112</td>\n",
       "      <td>-0.039379</td>\n",
       "    </tr>\n",
       "    <tr>\n",
       "      <th>Extreme cold days (a)</th>\n",
       "      <td>-0.198871</td>\n",
       "      <td>1.000000</td>\n",
       "      <td>-0.040293</td>\n",
       "      <td>0.069299</td>\n",
       "      <td>-0.589269</td>\n",
       "      <td>0.067738</td>\n",
       "      <td>0.023170</td>\n",
       "      <td>-0.008642</td>\n",
       "      <td>-0.015939</td>\n",
       "      <td>-0.008592</td>\n",
       "      <td>0.009637</td>\n",
       "      <td>0.013797</td>\n",
       "      <td>0.003574</td>\n",
       "      <td>0.019493</td>\n",
       "    </tr>\n",
       "    <tr>\n",
       "      <th>Extreme dry days (a)</th>\n",
       "      <td>0.113672</td>\n",
       "      <td>-0.040293</td>\n",
       "      <td>1.000000</td>\n",
       "      <td>-0.078899</td>\n",
       "      <td>0.073388</td>\n",
       "      <td>-0.153337</td>\n",
       "      <td>-0.008359</td>\n",
       "      <td>0.006535</td>\n",
       "      <td>0.013975</td>\n",
       "      <td>0.012755</td>\n",
       "      <td>-0.006948</td>\n",
       "      <td>-0.014067</td>\n",
       "      <td>-0.007213</td>\n",
       "      <td>0.000547</td>\n",
       "    </tr>\n",
       "    <tr>\n",
       "      <th>Extreme wet days (a)</th>\n",
       "      <td>-0.045471</td>\n",
       "      <td>0.069299</td>\n",
       "      <td>-0.078899</td>\n",
       "      <td>1.000000</td>\n",
       "      <td>-0.050623</td>\n",
       "      <td>0.627563</td>\n",
       "      <td>-0.014684</td>\n",
       "      <td>-0.003569</td>\n",
       "      <td>0.005375</td>\n",
       "      <td>-0.001151</td>\n",
       "      <td>-0.006022</td>\n",
       "      <td>-0.017005</td>\n",
       "      <td>-0.004054</td>\n",
       "      <td>-0.007402</td>\n",
       "    </tr>\n",
       "    <tr>\n",
       "      <th>Temperature change in Degree Celsius (b)</th>\n",
       "      <td>0.663616</td>\n",
       "      <td>-0.589269</td>\n",
       "      <td>0.073388</td>\n",
       "      <td>-0.050623</td>\n",
       "      <td>1.000000</td>\n",
       "      <td>-0.096918</td>\n",
       "      <td>-0.049378</td>\n",
       "      <td>0.018908</td>\n",
       "      <td>0.018190</td>\n",
       "      <td>0.019357</td>\n",
       "      <td>-0.047358</td>\n",
       "      <td>-0.048147</td>\n",
       "      <td>0.003704</td>\n",
       "      <td>-0.040489</td>\n",
       "    </tr>\n",
       "    <tr>\n",
       "      <th>Precipitation change in Millimeter (b)</th>\n",
       "      <td>-0.109199</td>\n",
       "      <td>0.067738</td>\n",
       "      <td>-0.153337</td>\n",
       "      <td>0.627563</td>\n",
       "      <td>-0.096918</td>\n",
       "      <td>1.000000</td>\n",
       "      <td>0.002318</td>\n",
       "      <td>-0.008337</td>\n",
       "      <td>-0.004138</td>\n",
       "      <td>-0.004402</td>\n",
       "      <td>0.008750</td>\n",
       "      <td>-0.001613</td>\n",
       "      <td>-0.005467</td>\n",
       "      <td>0.009547</td>\n",
       "    </tr>\n",
       "    <tr>\n",
       "      <th>Emotional well-being (b)</th>\n",
       "      <td>-0.052908</td>\n",
       "      <td>0.023170</td>\n",
       "      <td>-0.008359</td>\n",
       "      <td>-0.014684</td>\n",
       "      <td>-0.049378</td>\n",
       "      <td>0.002318</td>\n",
       "      <td>1.000000</td>\n",
       "      <td>-0.387599</td>\n",
       "      <td>-0.331621</td>\n",
       "      <td>-0.227817</td>\n",
       "      <td>0.626920</td>\n",
       "      <td>0.259328</td>\n",
       "      <td>0.181346</td>\n",
       "      <td>0.612935</td>\n",
       "    </tr>\n",
       "    <tr>\n",
       "      <th>Anger (b)</th>\n",
       "      <td>0.028601</td>\n",
       "      <td>-0.008642</td>\n",
       "      <td>0.006535</td>\n",
       "      <td>-0.003569</td>\n",
       "      <td>0.018908</td>\n",
       "      <td>-0.008337</td>\n",
       "      <td>-0.387599</td>\n",
       "      <td>1.000000</td>\n",
       "      <td>0.241274</td>\n",
       "      <td>0.141661</td>\n",
       "      <td>-0.133945</td>\n",
       "      <td>-0.053992</td>\n",
       "      <td>-0.042973</td>\n",
       "      <td>-0.119153</td>\n",
       "    </tr>\n",
       "    <tr>\n",
       "      <th>Anxiety (b)</th>\n",
       "      <td>0.015915</td>\n",
       "      <td>-0.015939</td>\n",
       "      <td>0.013975</td>\n",
       "      <td>0.005375</td>\n",
       "      <td>0.018190</td>\n",
       "      <td>-0.004138</td>\n",
       "      <td>-0.331621</td>\n",
       "      <td>0.241274</td>\n",
       "      <td>1.000000</td>\n",
       "      <td>0.206478</td>\n",
       "      <td>-0.133544</td>\n",
       "      <td>-0.085028</td>\n",
       "      <td>-0.013281</td>\n",
       "      <td>-0.114650</td>\n",
       "    </tr>\n",
       "    <tr>\n",
       "      <th>Sadness (b)</th>\n",
       "      <td>0.021201</td>\n",
       "      <td>-0.008592</td>\n",
       "      <td>0.012755</td>\n",
       "      <td>-0.001151</td>\n",
       "      <td>0.019357</td>\n",
       "      <td>-0.004402</td>\n",
       "      <td>-0.227817</td>\n",
       "      <td>0.141661</td>\n",
       "      <td>0.206478</td>\n",
       "      <td>1.000000</td>\n",
       "      <td>-0.094321</td>\n",
       "      <td>-0.053769</td>\n",
       "      <td>0.001057</td>\n",
       "      <td>-0.079987</td>\n",
       "    </tr>\n",
       "    <tr>\n",
       "      <th>Social affiliations (b)</th>\n",
       "      <td>-0.056911</td>\n",
       "      <td>0.009637</td>\n",
       "      <td>-0.006948</td>\n",
       "      <td>-0.006022</td>\n",
       "      <td>-0.047358</td>\n",
       "      <td>0.008750</td>\n",
       "      <td>0.626920</td>\n",
       "      <td>-0.133945</td>\n",
       "      <td>-0.133544</td>\n",
       "      <td>-0.094321</td>\n",
       "      <td>1.000000</td>\n",
       "      <td>0.205604</td>\n",
       "      <td>0.157451</td>\n",
       "      <td>0.670428</td>\n",
       "    </tr>\n",
       "    <tr>\n",
       "      <th>Analytical-Intuitive thinking style (b)</th>\n",
       "      <td>-0.051747</td>\n",
       "      <td>0.013797</td>\n",
       "      <td>-0.014067</td>\n",
       "      <td>-0.017005</td>\n",
       "      <td>-0.048147</td>\n",
       "      <td>-0.001613</td>\n",
       "      <td>0.259328</td>\n",
       "      <td>-0.053992</td>\n",
       "      <td>-0.085028</td>\n",
       "      <td>-0.053769</td>\n",
       "      <td>0.205604</td>\n",
       "      <td>1.000000</td>\n",
       "      <td>-0.047657</td>\n",
       "      <td>0.216562</td>\n",
       "    </tr>\n",
       "    <tr>\n",
       "      <th>Somatosensory experiences (b)</th>\n",
       "      <td>0.017112</td>\n",
       "      <td>0.003574</td>\n",
       "      <td>-0.007213</td>\n",
       "      <td>-0.004054</td>\n",
       "      <td>0.003704</td>\n",
       "      <td>-0.005467</td>\n",
       "      <td>0.181346</td>\n",
       "      <td>-0.042973</td>\n",
       "      <td>-0.013281</td>\n",
       "      <td>0.001057</td>\n",
       "      <td>0.157451</td>\n",
       "      <td>-0.047657</td>\n",
       "      <td>1.000000</td>\n",
       "      <td>0.184237</td>\n",
       "    </tr>\n",
       "    <tr>\n",
       "      <th>Pro-environment tendency (a)</th>\n",
       "      <td>-0.039379</td>\n",
       "      <td>0.019493</td>\n",
       "      <td>0.000547</td>\n",
       "      <td>-0.007402</td>\n",
       "      <td>-0.040489</td>\n",
       "      <td>0.009547</td>\n",
       "      <td>0.612935</td>\n",
       "      <td>-0.119153</td>\n",
       "      <td>-0.114650</td>\n",
       "      <td>-0.079987</td>\n",
       "      <td>0.670428</td>\n",
       "      <td>0.216562</td>\n",
       "      <td>0.184237</td>\n",
       "      <td>1.000000</td>\n",
       "    </tr>\n",
       "  </tbody>\n",
       "</table>\n",
       "</div>"
      ],
      "text/plain": [
       "                                          Extreme hot days (a)  \\\n",
       "Extreme hot days (a)                                  1.000000   \n",
       "Extreme cold days (a)                                -0.198871   \n",
       "Extreme dry days (a)                                  0.113672   \n",
       "Extreme wet days (a)                                 -0.045471   \n",
       "Temperature change in Degree Celsius (b)              0.663616   \n",
       "Precipitation change in Millimeter (b)               -0.109199   \n",
       "Emotional well-being (b)                             -0.052908   \n",
       "Anger (b)                                             0.028601   \n",
       "Anxiety (b)                                           0.015915   \n",
       "Sadness (b)                                           0.021201   \n",
       "Social affiliations (b)                              -0.056911   \n",
       "Analytical-Intuitive thinking style (b)              -0.051747   \n",
       "Somatosensory experiences (b)                         0.017112   \n",
       "Pro-environment tendency (a)                         -0.039379   \n",
       "\n",
       "                                          Extreme cold days (a)  \\\n",
       "Extreme hot days (a)                                  -0.198871   \n",
       "Extreme cold days (a)                                  1.000000   \n",
       "Extreme dry days (a)                                  -0.040293   \n",
       "Extreme wet days (a)                                   0.069299   \n",
       "Temperature change in Degree Celsius (b)              -0.589269   \n",
       "Precipitation change in Millimeter (b)                 0.067738   \n",
       "Emotional well-being (b)                               0.023170   \n",
       "Anger (b)                                             -0.008642   \n",
       "Anxiety (b)                                           -0.015939   \n",
       "Sadness (b)                                           -0.008592   \n",
       "Social affiliations (b)                                0.009637   \n",
       "Analytical-Intuitive thinking style (b)                0.013797   \n",
       "Somatosensory experiences (b)                          0.003574   \n",
       "Pro-environment tendency (a)                           0.019493   \n",
       "\n",
       "                                          Extreme dry days (a)  \\\n",
       "Extreme hot days (a)                                  0.113672   \n",
       "Extreme cold days (a)                                -0.040293   \n",
       "Extreme dry days (a)                                  1.000000   \n",
       "Extreme wet days (a)                                 -0.078899   \n",
       "Temperature change in Degree Celsius (b)              0.073388   \n",
       "Precipitation change in Millimeter (b)               -0.153337   \n",
       "Emotional well-being (b)                             -0.008359   \n",
       "Anger (b)                                             0.006535   \n",
       "Anxiety (b)                                           0.013975   \n",
       "Sadness (b)                                           0.012755   \n",
       "Social affiliations (b)                              -0.006948   \n",
       "Analytical-Intuitive thinking style (b)              -0.014067   \n",
       "Somatosensory experiences (b)                        -0.007213   \n",
       "Pro-environment tendency (a)                          0.000547   \n",
       "\n",
       "                                          Extreme wet days (a)  \\\n",
       "Extreme hot days (a)                                 -0.045471   \n",
       "Extreme cold days (a)                                 0.069299   \n",
       "Extreme dry days (a)                                 -0.078899   \n",
       "Extreme wet days (a)                                  1.000000   \n",
       "Temperature change in Degree Celsius (b)             -0.050623   \n",
       "Precipitation change in Millimeter (b)                0.627563   \n",
       "Emotional well-being (b)                             -0.014684   \n",
       "Anger (b)                                            -0.003569   \n",
       "Anxiety (b)                                           0.005375   \n",
       "Sadness (b)                                          -0.001151   \n",
       "Social affiliations (b)                              -0.006022   \n",
       "Analytical-Intuitive thinking style (b)              -0.017005   \n",
       "Somatosensory experiences (b)                        -0.004054   \n",
       "Pro-environment tendency (a)                         -0.007402   \n",
       "\n",
       "                                          Temperature change in Degree Celsius (b)  \\\n",
       "Extreme hot days (a)                                                      0.663616   \n",
       "Extreme cold days (a)                                                    -0.589269   \n",
       "Extreme dry days (a)                                                      0.073388   \n",
       "Extreme wet days (a)                                                     -0.050623   \n",
       "Temperature change in Degree Celsius (b)                                  1.000000   \n",
       "Precipitation change in Millimeter (b)                                   -0.096918   \n",
       "Emotional well-being (b)                                                 -0.049378   \n",
       "Anger (b)                                                                 0.018908   \n",
       "Anxiety (b)                                                               0.018190   \n",
       "Sadness (b)                                                               0.019357   \n",
       "Social affiliations (b)                                                  -0.047358   \n",
       "Analytical-Intuitive thinking style (b)                                  -0.048147   \n",
       "Somatosensory experiences (b)                                             0.003704   \n",
       "Pro-environment tendency (a)                                             -0.040489   \n",
       "\n",
       "                                          Precipitation change in Millimeter (b)  \\\n",
       "Extreme hot days (a)                                                   -0.109199   \n",
       "Extreme cold days (a)                                                   0.067738   \n",
       "Extreme dry days (a)                                                   -0.153337   \n",
       "Extreme wet days (a)                                                    0.627563   \n",
       "Temperature change in Degree Celsius (b)                               -0.096918   \n",
       "Precipitation change in Millimeter (b)                                  1.000000   \n",
       "Emotional well-being (b)                                                0.002318   \n",
       "Anger (b)                                                              -0.008337   \n",
       "Anxiety (b)                                                            -0.004138   \n",
       "Sadness (b)                                                            -0.004402   \n",
       "Social affiliations (b)                                                 0.008750   \n",
       "Analytical-Intuitive thinking style (b)                                -0.001613   \n",
       "Somatosensory experiences (b)                                          -0.005467   \n",
       "Pro-environment tendency (a)                                            0.009547   \n",
       "\n",
       "                                          Emotional well-being (b)  Anger (b)  \\\n",
       "Extreme hot days (a)                                     -0.052908   0.028601   \n",
       "Extreme cold days (a)                                     0.023170  -0.008642   \n",
       "Extreme dry days (a)                                     -0.008359   0.006535   \n",
       "Extreme wet days (a)                                     -0.014684  -0.003569   \n",
       "Temperature change in Degree Celsius (b)                 -0.049378   0.018908   \n",
       "Precipitation change in Millimeter (b)                    0.002318  -0.008337   \n",
       "Emotional well-being (b)                                  1.000000  -0.387599   \n",
       "Anger (b)                                                -0.387599   1.000000   \n",
       "Anxiety (b)                                              -0.331621   0.241274   \n",
       "Sadness (b)                                              -0.227817   0.141661   \n",
       "Social affiliations (b)                                   0.626920  -0.133945   \n",
       "Analytical-Intuitive thinking style (b)                   0.259328  -0.053992   \n",
       "Somatosensory experiences (b)                             0.181346  -0.042973   \n",
       "Pro-environment tendency (a)                              0.612935  -0.119153   \n",
       "\n",
       "                                          Anxiety (b)  Sadness (b)  \\\n",
       "Extreme hot days (a)                         0.015915     0.021201   \n",
       "Extreme cold days (a)                       -0.015939    -0.008592   \n",
       "Extreme dry days (a)                         0.013975     0.012755   \n",
       "Extreme wet days (a)                         0.005375    -0.001151   \n",
       "Temperature change in Degree Celsius (b)     0.018190     0.019357   \n",
       "Precipitation change in Millimeter (b)      -0.004138    -0.004402   \n",
       "Emotional well-being (b)                    -0.331621    -0.227817   \n",
       "Anger (b)                                    0.241274     0.141661   \n",
       "Anxiety (b)                                  1.000000     0.206478   \n",
       "Sadness (b)                                  0.206478     1.000000   \n",
       "Social affiliations (b)                     -0.133544    -0.094321   \n",
       "Analytical-Intuitive thinking style (b)     -0.085028    -0.053769   \n",
       "Somatosensory experiences (b)               -0.013281     0.001057   \n",
       "Pro-environment tendency (a)                -0.114650    -0.079987   \n",
       "\n",
       "                                          Social affiliations (b)  \\\n",
       "Extreme hot days (a)                                    -0.056911   \n",
       "Extreme cold days (a)                                    0.009637   \n",
       "Extreme dry days (a)                                    -0.006948   \n",
       "Extreme wet days (a)                                    -0.006022   \n",
       "Temperature change in Degree Celsius (b)                -0.047358   \n",
       "Precipitation change in Millimeter (b)                   0.008750   \n",
       "Emotional well-being (b)                                 0.626920   \n",
       "Anger (b)                                               -0.133945   \n",
       "Anxiety (b)                                             -0.133544   \n",
       "Sadness (b)                                             -0.094321   \n",
       "Social affiliations (b)                                  1.000000   \n",
       "Analytical-Intuitive thinking style (b)                  0.205604   \n",
       "Somatosensory experiences (b)                            0.157451   \n",
       "Pro-environment tendency (a)                             0.670428   \n",
       "\n",
       "                                          Analytical-Intuitive thinking style (b)  \\\n",
       "Extreme hot days (a)                                                    -0.051747   \n",
       "Extreme cold days (a)                                                    0.013797   \n",
       "Extreme dry days (a)                                                    -0.014067   \n",
       "Extreme wet days (a)                                                    -0.017005   \n",
       "Temperature change in Degree Celsius (b)                                -0.048147   \n",
       "Precipitation change in Millimeter (b)                                  -0.001613   \n",
       "Emotional well-being (b)                                                 0.259328   \n",
       "Anger (b)                                                               -0.053992   \n",
       "Anxiety (b)                                                             -0.085028   \n",
       "Sadness (b)                                                             -0.053769   \n",
       "Social affiliations (b)                                                  0.205604   \n",
       "Analytical-Intuitive thinking style (b)                                  1.000000   \n",
       "Somatosensory experiences (b)                                           -0.047657   \n",
       "Pro-environment tendency (a)                                             0.216562   \n",
       "\n",
       "                                          Somatosensory experiences (b)  \\\n",
       "Extreme hot days (a)                                           0.017112   \n",
       "Extreme cold days (a)                                          0.003574   \n",
       "Extreme dry days (a)                                          -0.007213   \n",
       "Extreme wet days (a)                                          -0.004054   \n",
       "Temperature change in Degree Celsius (b)                       0.003704   \n",
       "Precipitation change in Millimeter (b)                        -0.005467   \n",
       "Emotional well-being (b)                                       0.181346   \n",
       "Anger (b)                                                     -0.042973   \n",
       "Anxiety (b)                                                   -0.013281   \n",
       "Sadness (b)                                                    0.001057   \n",
       "Social affiliations (b)                                        0.157451   \n",
       "Analytical-Intuitive thinking style (b)                       -0.047657   \n",
       "Somatosensory experiences (b)                                  1.000000   \n",
       "Pro-environment tendency (a)                                   0.184237   \n",
       "\n",
       "                                          Pro-environment tendency (a)  \n",
       "Extreme hot days (a)                                         -0.039379  \n",
       "Extreme cold days (a)                                         0.019493  \n",
       "Extreme dry days (a)                                          0.000547  \n",
       "Extreme wet days (a)                                         -0.007402  \n",
       "Temperature change in Degree Celsius (b)                     -0.040489  \n",
       "Precipitation change in Millimeter (b)                        0.009547  \n",
       "Emotional well-being (b)                                      0.612935  \n",
       "Anger (b)                                                    -0.119153  \n",
       "Anxiety (b)                                                  -0.114650  \n",
       "Sadness (b)                                                  -0.079987  \n",
       "Social affiliations (b)                                       0.670428  \n",
       "Analytical-Intuitive thinking style (b)                       0.216562  \n",
       "Somatosensory experiences (b)                                 0.184237  \n",
       "Pro-environment tendency (a)                                  1.000000  "
      ]
     },
     "execution_count": 546,
     "metadata": {},
     "output_type": "execute_result"
    }
   ],
   "source": [
    "rho = measures.corr()\n",
    "rho"
   ]
  },
  {
   "cell_type": "code",
   "execution_count": 538,
   "metadata": {},
   "outputs": [],
   "source": [
    "# rho['extreme_hot'] = rho['extreme_hot'].apply(lambda x: f\"{x:.2f}\")"
   ]
  },
  {
   "cell_type": "code",
   "execution_count": 547,
   "metadata": {},
   "outputs": [],
   "source": [
    "for colu in rho.columns:\n",
    "    rho[colu] = rho[colu].apply(lambda x: f\"{x:.2f}\")"
   ]
  },
  {
   "cell_type": "code",
   "execution_count": 548,
   "metadata": {},
   "outputs": [],
   "source": [
    "pval = measures.corr(method=lambda x, y: stats.pearsonr(x, y)[1]) - np.eye(*rho.shape)\n",
    "p = pval.applymap(lambda x: ''.join(['*' for t in [.05, .01, .001] if x<=t]))\n",
    "rho2 = rho + p"
   ]
  },
  {
   "cell_type": "markdown",
   "metadata": {},
   "source": [
    "## testing alternative methods for binary correlations\n",
    "## results remain robust as pearson correlation"
   ]
  },
  {
   "cell_type": "code",
   "execution_count": 465,
   "metadata": {},
   "outputs": [],
   "source": [
    "from sklearn.metrics import matthews_corrcoef"
   ]
  },
  {
   "cell_type": "code",
   "execution_count": 467,
   "metadata": {},
   "outputs": [
    {
     "data": {
      "text/plain": [
       "-0.19887131449345258"
      ]
     },
     "execution_count": 467,
     "metadata": {},
     "output_type": "execute_result"
    }
   ],
   "source": [
    "matthews_corrcoef(measures['Extreme hot (binary)'], measures['Extreme cold (binary)']) "
   ]
  },
  {
   "cell_type": "code",
   "execution_count": 470,
   "metadata": {},
   "outputs": [
    {
     "data": {
      "text/plain": [
       "0.11367178423950755"
      ]
     },
     "execution_count": 470,
     "metadata": {},
     "output_type": "execute_result"
    }
   ],
   "source": [
    "matthews_corrcoef(measures['Extreme hot (binary)'], measures['Extreme dry (binary)']) "
   ]
  },
  {
   "cell_type": "code",
   "execution_count": 473,
   "metadata": {},
   "outputs": [
    {
     "data": {
      "text/plain": [
       "-0.04547136854714805"
      ]
     },
     "execution_count": 473,
     "metadata": {},
     "output_type": "execute_result"
    }
   ],
   "source": [
    "matthews_corrcoef(measures['Extreme hot (binary)'], measures['Extreme wet (binary)']) "
   ]
  },
  {
   "cell_type": "code",
   "execution_count": 475,
   "metadata": {},
   "outputs": [
    {
     "data": {
      "text/plain": [
       "0.01949280484378225"
      ]
     },
     "execution_count": 475,
     "metadata": {},
     "output_type": "execute_result"
    }
   ],
   "source": [
    "matthews_corrcoef(measures['Extreme cold (binary)'], measures['Pro-environment (binary)']) "
   ]
  },
  {
   "cell_type": "markdown",
   "metadata": {},
   "source": [
    "## plot"
   ]
  },
  {
   "cell_type": "code",
   "execution_count": 549,
   "metadata": {},
   "outputs": [],
   "source": [
    "mask = np.triu(np.ones_like(rho, dtype=bool))\n",
    "# np.fill_diagonal(mask, False)"
   ]
  },
  {
   "cell_type": "markdown",
   "metadata": {},
   "source": []
  },
  {
   "cell_type": "code",
   "execution_count": 550,
   "metadata": {},
   "outputs": [],
   "source": [
    "annot = [[val for val in row] for row in rho2.to_numpy()]"
   ]
  },
  {
   "cell_type": "code",
   "execution_count": 551,
   "metadata": {},
   "outputs": [
    {
     "data": {
      "image/png": "[encoded data removed]",
      "text/plain": [
       "<Figure size 1296x864 with 2 Axes>"
      ]
     },
     "metadata": {
      "needs_background": "light"
     },
     "output_type": "display_data"
    }
   ],
   "source": [
    "plt.figure(figsize=(18,12))\n",
    "variable_heatmap = sns.heatmap(measures.corr(),center=0, mask = mask,square=True,cmap='vlag',linewidths=0.5, vmin=-0.5, vmax=0.7,fmt=\"\",\n",
    "            annot = annot, annot_kws={ \"size\":10})\n",
    "fig = variable_heatmap.get_figure()\n",
    "fig.savefig(\"output/variable_association.png\",dpi=400,bbox_inches='tight') "
   ]
  },
  {
   "cell_type": "code",
   "execution_count": null,
   "metadata": {},
   "outputs": [],
   "source": []
  },
  {
   "cell_type": "markdown",
   "metadata": {},
   "source": [
    "## read regional vulnerability data"
   ]
  },
  {
   "cell_type": "code",
   "execution_count": 267,
   "metadata": {},
   "outputs": [],
   "source": [
    "province_indicator = pd.read_excel('China Yearbook 2022.xlsx',sheet_name='Sheet2')"
   ]
  },
  {
   "cell_type": "code",
   "execution_count": 268,
   "metadata": {},
   "outputs": [
    {
     "data": {
      "text/plain": [
       "Index(['ip', '人口数', 'post', '0-14岁', '15-64岁', '65以上', 'population',\n",
       "       '0-14_percentage', '15-64_percentage', '65-above_percentage',\n",
       "       'Vulnerable group', 'population_density', 'Eco_cat', 'Coastal_regions',\n",
       "       'age_0_14', 'age_65_above', 'population_density_binary',\n",
       "       'Exposure_index_score', 'Sensitivity_index_score',\n",
       "       'Adaptability_index_score', 'Vulnerability_index_score', 'Ranking',\n",
       "       'Ranking_binary', 'Exposure_index_score_binary',\n",
       "       'Sensitivity_index_score_binary', 'Adaptability_index_score_binary'],\n",
       "      dtype='object')"
      ]
     },
     "execution_count": 268,
     "metadata": {},
     "output_type": "execute_result"
    }
   ],
   "source": [
    "province_indicator.columns"
   ]
  },
  {
   "cell_type": "code",
   "execution_count": 269,
   "metadata": {},
   "outputs": [
    {
     "data": {
      "text/plain": [
       "(24161, 149)"
      ]
     },
     "execution_count": 269,
     "metadata": {},
     "output_type": "execute_result"
    }
   ],
   "source": [
    "emo_weather_join2.shape"
   ]
  },
  {
   "cell_type": "code",
   "execution_count": 270,
   "metadata": {},
   "outputs": [],
   "source": [
    "emo_weather_join3 = emo_weather_join2[['ip','publish_time','extreme_hot', 'extreme_cold', 'extreme_dry', 'extreme_wet','TAVE_DIFF',\n",
    "                    'emotional_well_being', 'anger','anx', 'sad', 'affiliation', 'thinking_style', 'somatosensory',\n",
    "       'pro_environment']].join(province_indicator[['ip','population_density','population_density_binary',\n",
    "       'Exposure_index_score','Sensitivity_index_score', 'Adaptability_index_score','Vulnerability_index_score', 'Ranking', 'Ranking_binary',\n",
    "       'Exposure_index_score_binary', 'Sensitivity_index_score_binary','Adaptability_index_score_binary']].set_index('ip'),\n",
    "                                on='ip',how='left')"
   ]
  },
  {
   "cell_type": "code",
   "execution_count": 271,
   "metadata": {},
   "outputs": [],
   "source": [
    "emo_weather_join3 = emo_weather_join3.replace({True:1, False:0})"
   ]
  },
  {
   "cell_type": "code",
   "execution_count": 278,
   "metadata": {},
   "outputs": [],
   "source": [
    "emo_weather_join3['publish_time'] = emo_weather_join3['publish_time'].dt.date"
   ]
  },
  {
   "cell_type": "code",
   "execution_count": 280,
   "metadata": {},
   "outputs": [],
   "source": [
    "emo_weather_join4 = emo_weather_join3[(emo_weather_join3['emotional_well_being']>-40) & (emo_weather_join3['emotional_well_being']<40)].copy()"
   ]
  },
  {
   "cell_type": "code",
   "execution_count": 1065,
   "metadata": {},
   "outputs": [],
   "source": [
    "#emo_weather_join4.to_csv('measure_for_mediation.csv',index=False)"
   ]
  },
  {
   "cell_type": "markdown",
   "metadata": {},
   "source": [
    "## predicting pro-environmental tendencies"
   ]
  },
  {
   "cell_type": "markdown",
   "metadata": {},
   "source": [
    "\n",
    "## model 1 crude model"
   ]
  },
  {
   "cell_type": "code",
   "execution_count": 282,
   "metadata": {},
   "outputs": [],
   "source": [
    "logistic_model = sm.GLM(emo_weather_join4['pro_environment'], sm.add_constant(emo_weather_join4['extreme_hot']),\n",
    "                        family=sm.families.Binomial())"
   ]
  },
  {
   "cell_type": "code",
   "execution_count": 283,
   "metadata": {},
   "outputs": [],
   "source": [
    "results = logistic_model.fit()"
   ]
  },
  {
   "cell_type": "code",
   "execution_count": 284,
   "metadata": {},
   "outputs": [
    {
     "name": "stdout",
     "output_type": "stream",
     "text": [
      "                 Generalized Linear Model Regression Results                  \n",
      "==============================================================================\n",
      "Dep. Variable:        pro_environment   No. Observations:                24156\n",
      "Model:                            GLM   Df Residuals:                    24154\n",
      "Model Family:                Binomial   Df Model:                            1\n",
      "Link Function:                  Logit   Scale:                          1.0000\n",
      "Method:                          IRLS   Log-Likelihood:                -13172.\n",
      "Date:                Thu, 04 Jan 2024   Deviance:                       26345.\n",
      "Time:                        12:07:05   Pearson chi2:                 2.42e+04\n",
      "No. Iterations:                     5   Pseudo R-squ. (CS):           0.001581\n",
      "Covariance Type:            nonrobust                                         \n",
      "===============================================================================\n",
      "                  coef    std err          z      P>|z|      [0.025      0.975]\n",
      "-------------------------------------------------------------------------------\n",
      "const          -1.1233      0.017    -65.013      0.000      -1.157      -1.089\n",
      "extreme_hot    -0.2207      0.036     -6.113      0.000      -0.291      -0.150\n",
      "===============================================================================\n"
     ]
    }
   ],
   "source": [
    "print(results.summary())"
   ]
  },
  {
   "cell_type": "code",
   "execution_count": 285,
   "metadata": {},
   "outputs": [
    {
     "data": {
      "text/html": [
       "<div>\n",
       "<style scoped>\n",
       "    .dataframe tbody tr th:only-of-type {\n",
       "        vertical-align: middle;\n",
       "    }\n",
       "\n",
       "    .dataframe tbody tr th {\n",
       "        vertical-align: top;\n",
       "    }\n",
       "\n",
       "    .dataframe thead th {\n",
       "        text-align: right;\n",
       "    }\n",
       "</style>\n",
       "<table border=\"1\" class=\"dataframe\">\n",
       "  <thead>\n",
       "    <tr style=\"text-align: right;\">\n",
       "      <th></th>\n",
       "      <th>5%</th>\n",
       "      <th>95%</th>\n",
       "      <th>Odds Ratio</th>\n",
       "    </tr>\n",
       "  </thead>\n",
       "  <tbody>\n",
       "    <tr>\n",
       "      <th>const</th>\n",
       "      <td>0.314373</td>\n",
       "      <td>0.336403</td>\n",
       "      <td>0.325201</td>\n",
       "    </tr>\n",
       "    <tr>\n",
       "      <th>extreme_hot</th>\n",
       "      <td>0.747202</td>\n",
       "      <td>0.860783</td>\n",
       "      <td>0.801984</td>\n",
       "    </tr>\n",
       "  </tbody>\n",
       "</table>\n",
       "</div>"
      ],
      "text/plain": [
       "                   5%       95%  Odds Ratio\n",
       "const        0.314373  0.336403    0.325201\n",
       "extreme_hot  0.747202  0.860783    0.801984"
      ]
     },
     "execution_count": 285,
     "metadata": {},
     "output_type": "execute_result"
    }
   ],
   "source": [
    "params = results.params\n",
    "conf = results.conf_int()\n",
    "conf['Odds Ratio'] = params\n",
    "conf.columns = ['5%', '95%', 'Odds Ratio']\n",
    "np.exp(conf)"
   ]
  },
  {
   "cell_type": "markdown",
   "metadata": {},
   "source": [
    "## model 2"
   ]
  },
  {
   "cell_type": "code",
   "execution_count": 286,
   "metadata": {},
   "outputs": [
    {
     "data": {
      "text/plain": [
       "0    18462\n",
       "1     5694\n",
       "Name: pro_environment, dtype: int64"
      ]
     },
     "execution_count": 286,
     "metadata": {},
     "output_type": "execute_result"
    }
   ],
   "source": [
    "emo_weather_join4['pro_environment'].value_counts()"
   ]
  },
  {
   "cell_type": "code",
   "execution_count": 501,
   "metadata": {},
   "outputs": [
    {
     "data": {
      "text/plain": [
       "Index(['ip', 'publish_time', 'extreme_hot', 'extreme_cold', 'extreme_dry',\n",
       "       'extreme_wet', 'TAVE_DIFF', 'emotional_well_being', 'anger', 'anx',\n",
       "       'sad', 'affiliation', 'thinking_style', 'somatosensory',\n",
       "       'pro_environment', 'population_density', 'population_density_binary',\n",
       "       'Exposure_index_score', 'Sensitivity_index_score',\n",
       "       'Adaptability_index_score', 'Vulnerability_index_score', 'Ranking',\n",
       "       'Ranking_binary', 'Exposure_index_score_binary',\n",
       "       'Sensitivity_index_score_binary', 'Adaptability_index_score_binary',\n",
       "       'media_emo_tone', 'month', 'season', 'TAVE_DIFF_cat'],\n",
       "      dtype='object')"
      ]
     },
     "execution_count": 501,
     "metadata": {},
     "output_type": "execute_result"
    }
   ],
   "source": [
    "emo_weather_join4.columns"
   ]
  },
  {
   "cell_type": "code",
   "execution_count": 512,
   "metadata": {},
   "outputs": [],
   "source": [
    "exog = sm.add_constant(emo_weather_join4[['extreme_hot','emotional_well_being']])"
   ]
  },
  {
   "cell_type": "code",
   "execution_count": 513,
   "metadata": {},
   "outputs": [],
   "source": [
    "logistic_model1 = sm.GLM(emo_weather_join4['pro_environment'], exog,\n",
    "                        family=sm.families.Binomial())"
   ]
  },
  {
   "cell_type": "code",
   "execution_count": 514,
   "metadata": {},
   "outputs": [],
   "source": [
    "results1 = logistic_model1.fit()"
   ]
  },
  {
   "cell_type": "code",
   "execution_count": 515,
   "metadata": {},
   "outputs": [
    {
     "name": "stdout",
     "output_type": "stream",
     "text": [
      "                 Generalized Linear Model Regression Results                  \n",
      "==============================================================================\n",
      "Dep. Variable:        pro_environment   No. Observations:                24156\n",
      "Model:                            GLM   Df Residuals:                    24153\n",
      "Model Family:                Binomial   Df Model:                            2\n",
      "Link Function:                  Logit   Scale:                          1.0000\n",
      "Method:                          IRLS   Log-Likelihood:                -7882.9\n",
      "Date:                Thu, 18 Jan 2024   Deviance:                       15766.\n",
      "Time:                        17:40:02   Pearson chi2:                 2.91e+05\n",
      "No. Iterations:                     6   Pseudo R-squ. (CS):             0.3557\n",
      "Covariance Type:            nonrobust                                         \n",
      "========================================================================================\n",
      "                           coef    std err          z      P>|z|      [0.025      0.975]\n",
      "----------------------------------------------------------------------------------------\n",
      "const                   -2.4155      0.031    -77.272      0.000      -2.477      -2.354\n",
      "extreme_hot             -0.1010      0.049     -2.078      0.038      -0.196      -0.006\n",
      "emotional_well_being     0.3474      0.004     80.588      0.000       0.339       0.356\n",
      "========================================================================================\n"
     ]
    }
   ],
   "source": [
    "print(results1.summary())"
   ]
  },
  {
   "cell_type": "markdown",
   "metadata": {},
   "source": []
  },
  {
   "cell_type": "code",
   "execution_count": 516,
   "metadata": {},
   "outputs": [
    {
     "data": {
      "text/html": [
       "<div>\n",
       "<style scoped>\n",
       "    .dataframe tbody tr th:only-of-type {\n",
       "        vertical-align: middle;\n",
       "    }\n",
       "\n",
       "    .dataframe tbody tr th {\n",
       "        vertical-align: top;\n",
       "    }\n",
       "\n",
       "    .dataframe thead th {\n",
       "        text-align: right;\n",
       "    }\n",
       "</style>\n",
       "<table border=\"1\" class=\"dataframe\">\n",
       "  <thead>\n",
       "    <tr style=\"text-align: right;\">\n",
       "      <th></th>\n",
       "      <th>5%</th>\n",
       "      <th>95%</th>\n",
       "      <th>Odds Ratio</th>\n",
       "    </tr>\n",
       "  </thead>\n",
       "  <tbody>\n",
       "    <tr>\n",
       "      <th>const</th>\n",
       "      <td>0.084017</td>\n",
       "      <td>0.094969</td>\n",
       "      <td>0.089326</td>\n",
       "    </tr>\n",
       "    <tr>\n",
       "      <th>extreme_hot</th>\n",
       "      <td>0.821724</td>\n",
       "      <td>0.994269</td>\n",
       "      <td>0.903889</td>\n",
       "    </tr>\n",
       "    <tr>\n",
       "      <th>emotional_well_being</th>\n",
       "      <td>1.403428</td>\n",
       "      <td>1.427343</td>\n",
       "      <td>1.415335</td>\n",
       "    </tr>\n",
       "  </tbody>\n",
       "</table>\n",
       "</div>"
      ],
      "text/plain": [
       "                            5%       95%  Odds Ratio\n",
       "const                 0.084017  0.094969    0.089326\n",
       "extreme_hot           0.821724  0.994269    0.903889\n",
       "emotional_well_being  1.403428  1.427343    1.415335"
      ]
     },
     "execution_count": 516,
     "metadata": {},
     "output_type": "execute_result"
    }
   ],
   "source": [
    "params = results1.params\n",
    "conf = results1.conf_int()\n",
    "conf['Odds Ratio'] = params\n",
    "conf.columns = ['5%', '95%', 'Odds Ratio']\n",
    "np.exp(conf)"
   ]
  },
  {
   "cell_type": "markdown",
   "metadata": {},
   "source": [
    "## model 3"
   ]
  },
  {
   "cell_type": "code",
   "execution_count": null,
   "metadata": {},
   "outputs": [
    {
     "data": {
      "text/plain": [
       "Index(['ip', 'publish_time', 'extreme_hot', 'extreme_cold', 'extreme_dry',\n",
       "       'extreme_wet', 'TAVE_DIFF', 'emotional_well_being', 'anger', 'anx',\n",
       "       'sad', 'affiliation', 'thinking_style', 'somatosensory',\n",
       "       'pro_environment', 'population_density', 'population_density_binary',\n",
       "       'Exposure_index_score', 'Sensitivity_index_score',\n",
       "       'Adaptability_index_score', 'Vulnerability_index_score', 'Ranking',\n",
       "       'Ranking_binary', 'Exposure_index_score_binary',\n",
       "       'Sensitivity_index_score_binary', 'Adaptability_index_score_binary',\n",
       "       'media_emo_tone', 'month', 'season', 'TAVE_DIFF_cat'],\n",
       "      dtype='object')"
      ]
     },
     "metadata": {},
     "output_type": "display_data"
    }
   ],
   "source": [
    "emo_weather_join4.columns"
   ]
  },
  {
   "cell_type": "code",
   "execution_count": 517,
   "metadata": {},
   "outputs": [],
   "source": [
    "exog = sm.add_constant(emo_weather_join4[['extreme_hot','emotional_well_being','affiliation', 'thinking_style', 'somatosensory']])"
   ]
  },
  {
   "cell_type": "code",
   "execution_count": 518,
   "metadata": {},
   "outputs": [],
   "source": [
    "logistic_model1 = sm.GLM(emo_weather_join4['pro_environment'], exog,\n",
    "                        family=sm.families.Binomial())"
   ]
  },
  {
   "cell_type": "code",
   "execution_count": 519,
   "metadata": {},
   "outputs": [],
   "source": [
    "results1 = logistic_model1.fit()"
   ]
  },
  {
   "cell_type": "code",
   "execution_count": 520,
   "metadata": {},
   "outputs": [
    {
     "name": "stdout",
     "output_type": "stream",
     "text": [
      "                 Generalized Linear Model Regression Results                  \n",
      "==============================================================================\n",
      "Dep. Variable:        pro_environment   No. Observations:                24156\n",
      "Model:                            GLM   Df Residuals:                    24150\n",
      "Model Family:                Binomial   Df Model:                            5\n",
      "Link Function:                  Logit   Scale:                          1.0000\n",
      "Method:                          IRLS   Log-Likelihood:                -6761.0\n",
      "Date:                Thu, 18 Jan 2024   Deviance:                       13522.\n",
      "Time:                        17:48:23   Pearson chi2:                 9.03e+06\n",
      "No. Iterations:                     6   Pseudo R-squ. (CS):             0.4128\n",
      "Covariance Type:            nonrobust                                         \n",
      "========================================================================================\n",
      "                           coef    std err          z      P>|z|      [0.025      0.975]\n",
      "----------------------------------------------------------------------------------------\n",
      "const                   -2.6738      0.062    -43.230      0.000      -2.795      -2.553\n",
      "extreme_hot              0.0238      0.054      0.443      0.658      -0.081       0.129\n",
      "emotional_well_being     0.2014      0.005     39.522      0.000       0.191       0.211\n",
      "affiliation              0.3592      0.008     43.458      0.000       0.343       0.375\n",
      "thinking_style           0.0182      0.002     10.285      0.000       0.015       0.022\n",
      "somatosensory            0.0368      0.006      5.760      0.000       0.024       0.049\n",
      "========================================================================================\n"
     ]
    }
   ],
   "source": [
    "print(results1.summary())"
   ]
  },
  {
   "cell_type": "markdown",
   "metadata": {},
   "source": []
  },
  {
   "cell_type": "code",
   "execution_count": 521,
   "metadata": {},
   "outputs": [
    {
     "data": {
      "text/html": [
       "<div>\n",
       "<style scoped>\n",
       "    .dataframe tbody tr th:only-of-type {\n",
       "        vertical-align: middle;\n",
       "    }\n",
       "\n",
       "    .dataframe tbody tr th {\n",
       "        vertical-align: top;\n",
       "    }\n",
       "\n",
       "    .dataframe thead th {\n",
       "        text-align: right;\n",
       "    }\n",
       "</style>\n",
       "<table border=\"1\" class=\"dataframe\">\n",
       "  <thead>\n",
       "    <tr style=\"text-align: right;\">\n",
       "      <th></th>\n",
       "      <th>5%</th>\n",
       "      <th>95%</th>\n",
       "      <th>Odds Ratio</th>\n",
       "    </tr>\n",
       "  </thead>\n",
       "  <tbody>\n",
       "    <tr>\n",
       "      <th>const</th>\n",
       "      <td>0.061115</td>\n",
       "      <td>0.077883</td>\n",
       "      <td>0.068992</td>\n",
       "    </tr>\n",
       "    <tr>\n",
       "      <th>extreme_hot</th>\n",
       "      <td>0.921845</td>\n",
       "      <td>1.137572</td>\n",
       "      <td>1.024043</td>\n",
       "    </tr>\n",
       "    <tr>\n",
       "      <th>emotional_well_being</th>\n",
       "      <td>1.210933</td>\n",
       "      <td>1.235363</td>\n",
       "      <td>1.223087</td>\n",
       "    </tr>\n",
       "    <tr>\n",
       "      <th>affiliation</th>\n",
       "      <td>1.409215</td>\n",
       "      <td>1.455626</td>\n",
       "      <td>1.432233</td>\n",
       "    </tr>\n",
       "    <tr>\n",
       "      <th>thinking_style</th>\n",
       "      <td>1.014828</td>\n",
       "      <td>1.021885</td>\n",
       "      <td>1.018350</td>\n",
       "    </tr>\n",
       "    <tr>\n",
       "      <th>somatosensory</th>\n",
       "      <td>1.024606</td>\n",
       "      <td>1.050625</td>\n",
       "      <td>1.037534</td>\n",
       "    </tr>\n",
       "  </tbody>\n",
       "</table>\n",
       "</div>"
      ],
      "text/plain": [
       "                            5%       95%  Odds Ratio\n",
       "const                 0.061115  0.077883    0.068992\n",
       "extreme_hot           0.921845  1.137572    1.024043\n",
       "emotional_well_being  1.210933  1.235363    1.223087\n",
       "affiliation           1.409215  1.455626    1.432233\n",
       "thinking_style        1.014828  1.021885    1.018350\n",
       "somatosensory         1.024606  1.050625    1.037534"
      ]
     },
     "execution_count": 521,
     "metadata": {},
     "output_type": "execute_result"
    }
   ],
   "source": [
    "params = results1.params\n",
    "conf = results1.conf_int()\n",
    "conf['Odds Ratio'] = params\n",
    "conf.columns = ['5%', '95%', 'Odds Ratio']\n",
    "np.exp(conf)"
   ]
  },
  {
   "cell_type": "markdown",
   "metadata": {},
   "source": [
    "## model 4"
   ]
  },
  {
   "cell_type": "code",
   "execution_count": 197,
   "metadata": {},
   "outputs": [
    {
     "data": {
      "text/plain": [
       "Index(['ip', 'publish_time', 'extreme_hot', 'extreme_cold', 'extreme_dry',\n",
       "       'extreme_wet', 'TAVE_DIFF', 'emotional_well-being', 'anger', 'anx',\n",
       "       'sad', 'affiliation', 'thinking_style', 'somatosensory',\n",
       "       'pro_environment', 'population_density', 'population_density_binary',\n",
       "       'Exposure_index_score', 'Sensitivity_index_score',\n",
       "       'Adaptability_index_score', 'Vulnerability_index_score', 'Ranking',\n",
       "       'Ranking_binary', 'Exposure_index_score_binary',\n",
       "       'Sensitivity_index_score_binary', 'Adaptability_index_score_binary',\n",
       "       'media_emo_tone'],\n",
       "      dtype='object')"
      ]
     },
     "execution_count": 197,
     "metadata": {},
     "output_type": "execute_result"
    }
   ],
   "source": [
    "emo_weather_join4.columns"
   ]
  },
  {
   "cell_type": "code",
   "execution_count": 440,
   "metadata": {},
   "outputs": [
    {
     "data": {
      "text/plain": [
       "(24156, 30)"
      ]
     },
     "execution_count": 440,
     "metadata": {},
     "output_type": "execute_result"
    }
   ],
   "source": [
    "emo_weather_join4.shape"
   ]
  },
  {
   "cell_type": "code",
   "execution_count": 522,
   "metadata": {},
   "outputs": [],
   "source": [
    "exog = sm.add_constant(emo_weather_join4[['extreme_hot','emotional_well_being','affiliation', 'thinking_style', 'somatosensory',\n",
    "                                          'population_density_binary',\n",
    "       'Exposure_index_score_binary','Sensitivity_index_score_binary','Adaptability_index_score_binary']])"
   ]
  },
  {
   "cell_type": "code",
   "execution_count": 523,
   "metadata": {},
   "outputs": [],
   "source": [
    "logistic_model2 = sm.GLM(emo_weather_join4['pro_environment'], exog,\n",
    "                        family=sm.families.Binomial())"
   ]
  },
  {
   "cell_type": "code",
   "execution_count": 524,
   "metadata": {},
   "outputs": [],
   "source": [
    "results2 = logistic_model2.fit()"
   ]
  },
  {
   "cell_type": "code",
   "execution_count": 525,
   "metadata": {},
   "outputs": [
    {
     "name": "stdout",
     "output_type": "stream",
     "text": [
      "                 Generalized Linear Model Regression Results                  \n",
      "==============================================================================\n",
      "Dep. Variable:        pro_environment   No. Observations:                24156\n",
      "Model:                            GLM   Df Residuals:                    24146\n",
      "Model Family:                Binomial   Df Model:                            9\n",
      "Link Function:                  Logit   Scale:                          1.0000\n",
      "Method:                          IRLS   Log-Likelihood:                -6737.7\n",
      "Date:                Thu, 18 Jan 2024   Deviance:                       13475.\n",
      "Time:                        17:51:36   Pearson chi2:                 1.12e+07\n",
      "No. Iterations:                     6   Pseudo R-squ. (CS):             0.4139\n",
      "Covariance Type:            nonrobust                                         \n",
      "===================================================================================================\n",
      "                                      coef    std err          z      P>|z|      [0.025      0.975]\n",
      "---------------------------------------------------------------------------------------------------\n",
      "const                              -2.6691      0.087    -30.507      0.000      -2.841      -2.498\n",
      "extreme_hot                         0.0095      0.054      0.176      0.861      -0.096       0.115\n",
      "emotional_well_being                0.2020      0.005     39.579      0.000       0.192       0.212\n",
      "affiliation                         0.3598      0.008     43.429      0.000       0.344       0.376\n",
      "thinking_style                      0.0186      0.002     10.498      0.000       0.015       0.022\n",
      "somatosensory                       0.0369      0.006      5.744      0.000       0.024       0.049\n",
      "population_density_binary          -0.0507      0.048     -1.045      0.296      -0.146       0.044\n",
      "Exposure_index_score_binary         0.0006      0.051      0.011      0.991      -0.099       0.100\n",
      "Sensitivity_index_score_binary     -0.2796      0.051     -5.517      0.000      -0.379      -0.180\n",
      "Adaptability_index_score_binary     0.2265      0.053      4.239      0.000       0.122       0.331\n",
      "===================================================================================================\n"
     ]
    }
   ],
   "source": [
    "print(results2.summary())"
   ]
  },
  {
   "cell_type": "code",
   "execution_count": 526,
   "metadata": {},
   "outputs": [
    {
     "data": {
      "text/html": [
       "<div>\n",
       "<style scoped>\n",
       "    .dataframe tbody tr th:only-of-type {\n",
       "        vertical-align: middle;\n",
       "    }\n",
       "\n",
       "    .dataframe tbody tr th {\n",
       "        vertical-align: top;\n",
       "    }\n",
       "\n",
       "    .dataframe thead th {\n",
       "        text-align: right;\n",
       "    }\n",
       "</style>\n",
       "<table border=\"1\" class=\"dataframe\">\n",
       "  <thead>\n",
       "    <tr style=\"text-align: right;\">\n",
       "      <th></th>\n",
       "      <th>5%</th>\n",
       "      <th>95%</th>\n",
       "      <th>Odds Ratio</th>\n",
       "    </tr>\n",
       "  </thead>\n",
       "  <tbody>\n",
       "    <tr>\n",
       "      <th>const</th>\n",
       "      <td>0.058391</td>\n",
       "      <td>0.082279</td>\n",
       "      <td>0.069313</td>\n",
       "    </tr>\n",
       "    <tr>\n",
       "      <th>extreme_hot</th>\n",
       "      <td>0.908328</td>\n",
       "      <td>1.121967</td>\n",
       "      <td>1.009512</td>\n",
       "    </tr>\n",
       "    <tr>\n",
       "      <th>emotional_well_being</th>\n",
       "      <td>1.211673</td>\n",
       "      <td>1.236159</td>\n",
       "      <td>1.223854</td>\n",
       "    </tr>\n",
       "    <tr>\n",
       "      <th>affiliation</th>\n",
       "      <td>1.409945</td>\n",
       "      <td>1.456484</td>\n",
       "      <td>1.433026</td>\n",
       "    </tr>\n",
       "    <tr>\n",
       "      <th>thinking_style</th>\n",
       "      <td>1.015242</td>\n",
       "      <td>1.022318</td>\n",
       "      <td>1.018774</td>\n",
       "    </tr>\n",
       "    <tr>\n",
       "      <th>somatosensory</th>\n",
       "      <td>1.024583</td>\n",
       "      <td>1.050689</td>\n",
       "      <td>1.037554</td>\n",
       "    </tr>\n",
       "    <tr>\n",
       "      <th>population_density_binary</th>\n",
       "      <td>0.864382</td>\n",
       "      <td>1.045351</td>\n",
       "      <td>0.950570</td>\n",
       "    </tr>\n",
       "    <tr>\n",
       "      <th>Exposure_index_score_binary</th>\n",
       "      <td>0.905807</td>\n",
       "      <td>1.105251</td>\n",
       "      <td>1.000572</td>\n",
       "    </tr>\n",
       "    <tr>\n",
       "      <th>Sensitivity_index_score_binary</th>\n",
       "      <td>0.684550</td>\n",
       "      <td>0.835030</td>\n",
       "      <td>0.756055</td>\n",
       "    </tr>\n",
       "    <tr>\n",
       "      <th>Adaptability_index_score_binary</th>\n",
       "      <td>1.129516</td>\n",
       "      <td>1.392743</td>\n",
       "      <td>1.254243</td>\n",
       "    </tr>\n",
       "  </tbody>\n",
       "</table>\n",
       "</div>"
      ],
      "text/plain": [
       "                                       5%       95%  Odds Ratio\n",
       "const                            0.058391  0.082279    0.069313\n",
       "extreme_hot                      0.908328  1.121967    1.009512\n",
       "emotional_well_being             1.211673  1.236159    1.223854\n",
       "affiliation                      1.409945  1.456484    1.433026\n",
       "thinking_style                   1.015242  1.022318    1.018774\n",
       "somatosensory                    1.024583  1.050689    1.037554\n",
       "population_density_binary        0.864382  1.045351    0.950570\n",
       "Exposure_index_score_binary      0.905807  1.105251    1.000572\n",
       "Sensitivity_index_score_binary   0.684550  0.835030    0.756055\n",
       "Adaptability_index_score_binary  1.129516  1.392743    1.254243"
      ]
     },
     "execution_count": 526,
     "metadata": {},
     "output_type": "execute_result"
    }
   ],
   "source": [
    "params = results2.params\n",
    "conf = results2.conf_int()\n",
    "conf['Odds Ratio'] = params\n",
    "conf.columns = ['5%', '95%', 'Odds Ratio']\n",
    "np.exp(conf)"
   ]
  },
  {
   "cell_type": "markdown",
   "metadata": {},
   "source": [
    "## check collinearity"
   ]
  },
  {
   "cell_type": "code",
   "execution_count": 494,
   "metadata": {},
   "outputs": [],
   "source": [
    "X = emo_weather_join4[['extreme_hot','emotional_well_being','affiliation', 'thinking_style', 'somatosensory','population_density_binary',\n",
    "       'Exposure_index_score_binary','Sensitivity_index_score_binary','Adaptability_index_score_binary']]\n",
    "VIF dataframe \n",
    "vif_data = pd.DataFrame() \n",
    "vif_data[\"feature\"] = X.columns "
   ]
  },
  {
   "cell_type": "code",
   "execution_count": null,
   "metadata": {},
   "outputs": [],
   "source": [
    "# calculating VIF for each feature \n",
    "vif_data[\"VIF\"] = [variance_inflation_factor(X.values, i) \n",
    "                          for i in range(len(X.columns))] "
   ]
  },
  {
   "cell_type": "code",
   "execution_count": null,
   "metadata": {},
   "outputs": [],
   "source": []
  },
  {
   "cell_type": "markdown",
   "metadata": {},
   "source": [
    "## regional differences"
   ]
  },
  {
   "cell_type": "code",
   "execution_count": 296,
   "metadata": {},
   "outputs": [
    {
     "data": {
      "text/plain": [
       "Index(['ip', 'publish_time', 'extreme_hot', 'extreme_cold', 'extreme_dry',\n",
       "       'extreme_wet', 'TAVE_DIFF', 'emotional_well_being', 'anger', 'anx',\n",
       "       'sad', 'affiliation', 'thinking_style', 'somatosensory',\n",
       "       'pro_environment', 'population_density', 'population_density_binary',\n",
       "       'Exposure_index_score', 'Sensitivity_index_score',\n",
       "       'Adaptability_index_score', 'Vulnerability_index_score', 'Ranking',\n",
       "       'Ranking_binary', 'Exposure_index_score_binary',\n",
       "       'Sensitivity_index_score_binary', 'Adaptability_index_score_binary',\n",
       "       'media_emo_tone'],\n",
       "      dtype='object')"
      ]
     },
     "execution_count": 296,
     "metadata": {},
     "output_type": "execute_result"
    }
   ],
   "source": [
    "emo_weather_join4.columns"
   ]
  },
  {
   "cell_type": "markdown",
   "metadata": {},
   "source": [
    "## population density"
   ]
  },
  {
   "cell_type": "code",
   "execution_count": 297,
   "metadata": {},
   "outputs": [],
   "source": [
    "model = smf.glm(formula = \"emotional_well_being ~ TAVE_DIFF + population_density_binary + TAVE_DIFF*population_density_binary\", \n",
    "                data = emo_weather_join4, \n",
    "                family = sm.families.Gaussian()) "
   ]
  },
  {
   "cell_type": "code",
   "execution_count": 298,
   "metadata": {},
   "outputs": [],
   "source": [
    "result = model.fit()"
   ]
  },
  {
   "cell_type": "code",
   "execution_count": 299,
   "metadata": {},
   "outputs": [
    {
     "data": {
      "text/html": [
       "<div>\n",
       "<style scoped>\n",
       "    .dataframe tbody tr th:only-of-type {\n",
       "        vertical-align: middle;\n",
       "    }\n",
       "\n",
       "    .dataframe tbody tr th {\n",
       "        vertical-align: top;\n",
       "    }\n",
       "\n",
       "    .dataframe thead th {\n",
       "        text-align: right;\n",
       "    }\n",
       "</style>\n",
       "<table border=\"1\" class=\"dataframe\">\n",
       "  <thead>\n",
       "    <tr style=\"text-align: right;\">\n",
       "      <th></th>\n",
       "      <th>Coef.</th>\n",
       "      <th>Std.Err.</th>\n",
       "      <th>z</th>\n",
       "      <th>P&gt;|z|</th>\n",
       "      <th>[0.025</th>\n",
       "      <th>0.975]</th>\n",
       "    </tr>\n",
       "  </thead>\n",
       "  <tbody>\n",
       "    <tr>\n",
       "      <th>Intercept</th>\n",
       "      <td>1.769602</td>\n",
       "      <td>0.059175</td>\n",
       "      <td>29.904342</td>\n",
       "      <td>1.727957e-196</td>\n",
       "      <td>1.653621</td>\n",
       "      <td>1.885584</td>\n",
       "    </tr>\n",
       "    <tr>\n",
       "      <th>TAVE_DIFF</th>\n",
       "      <td>-0.060576</td>\n",
       "      <td>0.018576</td>\n",
       "      <td>-3.261003</td>\n",
       "      <td>1.110190e-03</td>\n",
       "      <td>-0.096984</td>\n",
       "      <td>-0.024168</td>\n",
       "    </tr>\n",
       "    <tr>\n",
       "      <th>population_density_binary</th>\n",
       "      <td>-0.191185</td>\n",
       "      <td>0.078412</td>\n",
       "      <td>-2.438205</td>\n",
       "      <td>1.476038e-02</td>\n",
       "      <td>-0.344870</td>\n",
       "      <td>-0.037500</td>\n",
       "    </tr>\n",
       "    <tr>\n",
       "      <th>TAVE_DIFF:population_density_binary</th>\n",
       "      <td>-0.067971</td>\n",
       "      <td>0.025294</td>\n",
       "      <td>-2.687212</td>\n",
       "      <td>7.205117e-03</td>\n",
       "      <td>-0.117546</td>\n",
       "      <td>-0.018395</td>\n",
       "    </tr>\n",
       "  </tbody>\n",
       "</table>\n",
       "</div>"
      ],
      "text/plain": [
       "                                        Coef.  Std.Err.          z  \\\n",
       "Intercept                            1.769602  0.059175  29.904342   \n",
       "TAVE_DIFF                           -0.060576  0.018576  -3.261003   \n",
       "population_density_binary           -0.191185  0.078412  -2.438205   \n",
       "TAVE_DIFF:population_density_binary -0.067971  0.025294  -2.687212   \n",
       "\n",
       "                                             P>|z|    [0.025    0.975]  \n",
       "Intercept                            1.727957e-196  1.653621  1.885584  \n",
       "TAVE_DIFF                             1.110190e-03 -0.096984 -0.024168  \n",
       "population_density_binary             1.476038e-02 -0.344870 -0.037500  \n",
       "TAVE_DIFF:population_density_binary   7.205117e-03 -0.117546 -0.018395  "
      ]
     },
     "execution_count": 299,
     "metadata": {},
     "output_type": "execute_result"
    }
   ],
   "source": [
    "result.summary2().tables[1]"
   ]
  },
  {
   "cell_type": "code",
   "execution_count": 339,
   "metadata": {},
   "outputs": [],
   "source": [
    "TAVE_DIFF_mean = emo_weather_join4['TAVE_DIFF'].mean()\n",
    "TAVE_DIFF_std = emo_weather_join4['TAVE_DIFF'].std()"
   ]
  },
  {
   "cell_type": "code",
   "execution_count": 340,
   "metadata": {},
   "outputs": [],
   "source": [
    "emo_weather_join4['TAVE_DIFF_cat'] = emo_weather_join4['TAVE_DIFF'].apply(lambda x:'1' if x >TAVE_DIFF_mean + TAVE_DIFF_std\n",
    "                                                                          else ('0' if x <TAVE_DIFF_mean - TAVE_DIFF_std else 'mean'))"
   ]
  },
  {
   "cell_type": "code",
   "execution_count": 396,
   "metadata": {},
   "outputs": [],
   "source": [
    "emo_weather_join5 = emo_weather_join4[emo_weather_join4['TAVE_DIFF_cat']!='mean'].copy()"
   ]
  },
  {
   "cell_type": "code",
   "execution_count": 397,
   "metadata": {},
   "outputs": [],
   "source": [
    "emo_weather_join5['Population density'] = emo_weather_join5['population_density_binary'].replace({1:'high',0:'low'})"
   ]
  },
  {
   "cell_type": "code",
   "execution_count": 398,
   "metadata": {},
   "outputs": [],
   "source": [
    "emo_weather_join5['extreme_hot_cat'] = emo_weather_join5['extreme_hot'].replace({1:'Extreme_hot=1',0:'Extreme_hot=0'})"
   ]
  },
  {
   "cell_type": "code",
   "execution_count": 400,
   "metadata": {},
   "outputs": [
    {
     "data": {
      "text/plain": [
       "Index(['ip', 'publish_time', 'extreme_hot', 'extreme_cold', 'extreme_dry',\n",
       "       'extreme_wet', 'TAVE_DIFF', 'emotional_well_being', 'anger', 'anx',\n",
       "       'sad', 'affiliation', 'thinking_style', 'somatosensory',\n",
       "       'pro_environment', 'population_density', 'population_density_binary',\n",
       "       'Exposure_index_score', 'Sensitivity_index_score',\n",
       "       'Adaptability_index_score', 'Vulnerability_index_score', 'Ranking',\n",
       "       'Ranking_binary', 'Exposure_index_score_binary',\n",
       "       'Sensitivity_index_score_binary', 'Adaptability_index_score_binary',\n",
       "       'media_emo_tone', 'month', 'season', 'TAVE_DIFF_cat',\n",
       "       'Population density', 'extreme_hot_cat'],\n",
       "      dtype='object')"
      ]
     },
     "execution_count": 400,
     "metadata": {},
     "output_type": "execute_result"
    }
   ],
   "source": [
    "emo_weather_join5.columns"
   ]
  },
  {
   "cell_type": "code",
   "execution_count": 416,
   "metadata": {},
   "outputs": [
    {
     "data": {
      "image/png": "[encoded data removed]",
      "text/plain": [
       "<Figure size 432x576 with 1 Axes>"
      ]
     },
     "metadata": {
      "needs_background": "light"
     },
     "output_type": "display_data"
    }
   ],
   "source": [
    "fig, ax = plt.subplots(figsize=(6, 8))\n",
    "fig = interaction_plot(emo_weather_join5['TAVE_DIFF_cat'],emo_weather_join5['Population density'],emo_weather_join5['emotional_well_being'],\n",
    "                       ax = ax,colors = ['red','blue'],linewidth=3)\n",
    "ax.set_xticklabels(['Mean-1SD','Mean+1SD'])\n",
    "ax.set_xlabel('Temperature change in Degree Celsius',fontsize=12)\n",
    "ax.set_ylabel('Mean emotional well-bing',fontsize=12)\n",
    "fig.savefig(\"output/interaction_plot_pop_den.png\",dpi=400,bbox_inches='tight')"
   ]
  },
  {
   "cell_type": "code",
   "execution_count": 914,
   "metadata": {},
   "outputs": [],
   "source": [
    "# fig, ax = plt.subplots(figsize=(10, 12))\n",
    "# fig = interaction_plot(emo_weather_join4['population_density'], emo_weather_join4['extreme_hot'], emo_weather_join4['emotional_tone'],\n",
    "#                      colors=[\"red\", \"blue\"],\n",
    "#                      ax=ax)"
   ]
  },
  {
   "cell_type": "markdown",
   "metadata": {},
   "source": [
    "## check other interaction\n",
    "* overall vulnerability binary - [x]\n",
    "* overall vulnerability raw score - [x]\n",
    "<br />\n",
    "<br />\n",
    "\n",
    "* Adaptability_index_score binary - [x] \n",
    "* Adaptability_index_score raw score - [y] higher adaptability, lower emotional tone, but no interaction effect. \n",
    "<br />\n",
    "<br />\n",
    "\n",
    "* Sensitivity_index_score binary - [x]\n",
    "* Sensitivities raw score - [x]\n",
    "<br />\n",
    "<br />\n",
    "\n",
    "* Exposure_index_score binary - [y]  higher exposure, lower emotional tone, but no interaction effect.\n",
    "* Exposure_index_score - [y]  higher exposure, lower emotional tone, but no interaction effect.\n",
    "<br />\n",
    "<br />\n",
    "\n",
    "* Population density binary - [y]\n",
    "* Population density raw score - [x]"
   ]
  },
  {
   "cell_type": "markdown",
   "metadata": {},
   "source": [
    "## season difference"
   ]
  },
  {
   "cell_type": "code",
   "execution_count": 418,
   "metadata": {},
   "outputs": [],
   "source": [
    "emo_weather_join4['month'] = emo_weather_join4['publish_time'].apply(lambda x:x.month)"
   ]
  },
  {
   "cell_type": "code",
   "execution_count": 419,
   "metadata": {},
   "outputs": [],
   "source": [
    "emo_weather_join4['season'] = emo_weather_join4['month'].apply(lambda x: 'spring' if x in [3,4,5] \n",
    "                                                               else ('summer' if x in [6,7,8] \n",
    "                                                                     else ('autumn' if x in [9,10,11] else 'winter')))"
   ]
  },
  {
   "cell_type": "code",
   "execution_count": 421,
   "metadata": {},
   "outputs": [],
   "source": [
    "endog = emo_weather_join4[['emotional_well_being']]"
   ]
  },
  {
   "cell_type": "code",
   "execution_count": 422,
   "metadata": {},
   "outputs": [],
   "source": [
    "exog = sm.add_constant(emo_weather_join4[['extreme_hot']].join(pd.get_dummies(emo_weather_join4['season']).drop(columns='spring')))"
   ]
  },
  {
   "cell_type": "code",
   "execution_count": 423,
   "metadata": {},
   "outputs": [],
   "source": [
    "exog2 = sm.add_constant(emo_weather_join4[['TAVE_DIFF']].join(pd.get_dummies(emo_weather_join4['season']).drop(columns='spring')))"
   ]
  },
  {
   "cell_type": "code",
   "execution_count": 425,
   "metadata": {},
   "outputs": [],
   "source": [
    "#exog['spring_extreme_hot'] = exog['extreme_hot'] * exog['spring']\n",
    "exog['summer_extreme_hot'] = exog['extreme_hot'] * exog['summer']\n",
    "exog['autumn_extreme_hot'] = exog['extreme_hot'] * exog['autumn']\n",
    "exog['winter_extreme_hot'] = exog['extreme_hot'] * exog['winter']"
   ]
  },
  {
   "cell_type": "code",
   "execution_count": 426,
   "metadata": {},
   "outputs": [],
   "source": [
    "exog2['summer_TAVE'] = exog2['TAVE_DIFF'] * exog2['summer']\n",
    "exog2['autumn_TAVE'] = exog2['TAVE_DIFF'] * exog2['autumn']\n",
    "exog2['winter_TAVE'] = exog2['TAVE_DIFF'] * exog2['winter']"
   ]
  },
  {
   "cell_type": "markdown",
   "metadata": {},
   "source": []
  },
  {
   "cell_type": "code",
   "execution_count": 427,
   "metadata": {},
   "outputs": [],
   "source": [
    "model = sm.GLM(endog, exog,\n",
    "                        family=sm.families.Gaussian())"
   ]
  },
  {
   "cell_type": "code",
   "execution_count": 428,
   "metadata": {},
   "outputs": [],
   "source": [
    "result = model.fit()"
   ]
  },
  {
   "cell_type": "code",
   "execution_count": 429,
   "metadata": {},
   "outputs": [
    {
     "name": "stdout",
     "output_type": "stream",
     "text": [
      "                  Generalized Linear Model Regression Results                   \n",
      "================================================================================\n",
      "Dep. Variable:     emotional_well_being   No. Observations:                24156\n",
      "Model:                              GLM   Df Residuals:                    24148\n",
      "Model Family:                  Gaussian   Df Model:                            7\n",
      "Link Function:                 identity   Scale:                          33.788\n",
      "Method:                            IRLS   Log-Likelihood:                -76788.\n",
      "Date:                  Thu, 04 Jan 2024   Deviance:                   8.1590e+05\n",
      "Time:                          15:56:42   Pearson chi2:                 8.16e+05\n",
      "No. Iterations:                       3   Pseudo R-squ. (CS):           0.007762\n",
      "Covariance Type:              nonrobust                                         \n",
      "======================================================================================\n",
      "                         coef    std err          z      P>|z|      [0.025      0.975]\n",
      "--------------------------------------------------------------------------------------\n",
      "const                  2.4046      0.085     28.306      0.000       2.238       2.571\n",
      "extreme_hot           -0.5811      0.192     -3.029      0.002      -0.957      -0.205\n",
      "autumn                -1.1520      0.130     -8.859      0.000      -1.407      -0.897\n",
      "summer                -0.8658      0.111     -7.817      0.000      -1.083      -0.649\n",
      "winter                -0.5699      0.133     -4.287      0.000      -0.830      -0.309\n",
      "summer_extreme_hot    -0.1348      0.227     -0.593      0.553      -0.580       0.311\n",
      "autumn_extreme_hot     0.2891      0.280      1.032      0.302      -0.260       0.838\n",
      "winter_extreme_hot    -0.2309      0.358     -0.644      0.519      -0.933       0.472\n",
      "======================================================================================\n"
     ]
    }
   ],
   "source": [
    "print(result.summary())"
   ]
  },
  {
   "cell_type": "code",
   "execution_count": 430,
   "metadata": {},
   "outputs": [
    {
     "data": {
      "text/html": [
       "<div>\n",
       "<style scoped>\n",
       "    .dataframe tbody tr th:only-of-type {\n",
       "        vertical-align: middle;\n",
       "    }\n",
       "\n",
       "    .dataframe tbody tr th {\n",
       "        vertical-align: top;\n",
       "    }\n",
       "\n",
       "    .dataframe thead th {\n",
       "        text-align: right;\n",
       "    }\n",
       "</style>\n",
       "<table border=\"1\" class=\"dataframe\">\n",
       "  <thead>\n",
       "    <tr style=\"text-align: right;\">\n",
       "      <th></th>\n",
       "      <th>Coef.</th>\n",
       "      <th>Std.Err.</th>\n",
       "      <th>z</th>\n",
       "      <th>P&gt;|z|</th>\n",
       "      <th>[0.025</th>\n",
       "      <th>0.975]</th>\n",
       "    </tr>\n",
       "  </thead>\n",
       "  <tbody>\n",
       "    <tr>\n",
       "      <th>const</th>\n",
       "      <td>2.404584</td>\n",
       "      <td>0.084950</td>\n",
       "      <td>28.305895</td>\n",
       "      <td>2.924209e-176</td>\n",
       "      <td>2.238085</td>\n",
       "      <td>2.571082</td>\n",
       "    </tr>\n",
       "    <tr>\n",
       "      <th>extreme_hot</th>\n",
       "      <td>-0.581116</td>\n",
       "      <td>0.191841</td>\n",
       "      <td>-3.029160</td>\n",
       "      <td>2.452351e-03</td>\n",
       "      <td>-0.957117</td>\n",
       "      <td>-0.205115</td>\n",
       "    </tr>\n",
       "    <tr>\n",
       "      <th>autumn</th>\n",
       "      <td>-1.152027</td>\n",
       "      <td>0.130045</td>\n",
       "      <td>-8.858695</td>\n",
       "      <td>8.095670e-19</td>\n",
       "      <td>-1.406910</td>\n",
       "      <td>-0.897144</td>\n",
       "    </tr>\n",
       "    <tr>\n",
       "      <th>summer</th>\n",
       "      <td>-0.865826</td>\n",
       "      <td>0.110760</td>\n",
       "      <td>-7.817157</td>\n",
       "      <td>5.402963e-15</td>\n",
       "      <td>-1.082911</td>\n",
       "      <td>-0.648741</td>\n",
       "    </tr>\n",
       "    <tr>\n",
       "      <th>winter</th>\n",
       "      <td>-0.569857</td>\n",
       "      <td>0.132919</td>\n",
       "      <td>-4.287267</td>\n",
       "      <td>1.808851e-05</td>\n",
       "      <td>-0.830373</td>\n",
       "      <td>-0.309342</td>\n",
       "    </tr>\n",
       "    <tr>\n",
       "      <th>summer_extreme_hot</th>\n",
       "      <td>-0.134779</td>\n",
       "      <td>0.227230</td>\n",
       "      <td>-0.593141</td>\n",
       "      <td>5.530870e-01</td>\n",
       "      <td>-0.580141</td>\n",
       "      <td>0.310583</td>\n",
       "    </tr>\n",
       "    <tr>\n",
       "      <th>autumn_extreme_hot</th>\n",
       "      <td>0.289128</td>\n",
       "      <td>0.280276</td>\n",
       "      <td>1.031586</td>\n",
       "      <td>3.022663e-01</td>\n",
       "      <td>-0.260202</td>\n",
       "      <td>0.838459</td>\n",
       "    </tr>\n",
       "    <tr>\n",
       "      <th>winter_extreme_hot</th>\n",
       "      <td>-0.230894</td>\n",
       "      <td>0.358433</td>\n",
       "      <td>-0.644177</td>\n",
       "      <td>5.194606e-01</td>\n",
       "      <td>-0.933409</td>\n",
       "      <td>0.471621</td>\n",
       "    </tr>\n",
       "  </tbody>\n",
       "</table>\n",
       "</div>"
      ],
      "text/plain": [
       "                       Coef.  Std.Err.          z          P>|z|    [0.025  \\\n",
       "const               2.404584  0.084950  28.305895  2.924209e-176  2.238085   \n",
       "extreme_hot        -0.581116  0.191841  -3.029160   2.452351e-03 -0.957117   \n",
       "autumn             -1.152027  0.130045  -8.858695   8.095670e-19 -1.406910   \n",
       "summer             -0.865826  0.110760  -7.817157   5.402963e-15 -1.082911   \n",
       "winter             -0.569857  0.132919  -4.287267   1.808851e-05 -0.830373   \n",
       "summer_extreme_hot -0.134779  0.227230  -0.593141   5.530870e-01 -0.580141   \n",
       "autumn_extreme_hot  0.289128  0.280276   1.031586   3.022663e-01 -0.260202   \n",
       "winter_extreme_hot -0.230894  0.358433  -0.644177   5.194606e-01 -0.933409   \n",
       "\n",
       "                      0.975]  \n",
       "const               2.571082  \n",
       "extreme_hot        -0.205115  \n",
       "autumn             -0.897144  \n",
       "summer             -0.648741  \n",
       "winter             -0.309342  \n",
       "summer_extreme_hot  0.310583  \n",
       "autumn_extreme_hot  0.838459  \n",
       "winter_extreme_hot  0.471621  "
      ]
     },
     "execution_count": 430,
     "metadata": {},
     "output_type": "execute_result"
    }
   ],
   "source": [
    "result.summary2().tables[1]"
   ]
  },
  {
   "cell_type": "code",
   "execution_count": 431,
   "metadata": {},
   "outputs": [],
   "source": [
    "model2 = sm.GLM(endog, exog2,\n",
    "                        family=sm.families.Gaussian())"
   ]
  },
  {
   "cell_type": "code",
   "execution_count": 432,
   "metadata": {},
   "outputs": [],
   "source": [
    "result2 = model2.fit()"
   ]
  },
  {
   "cell_type": "code",
   "execution_count": 433,
   "metadata": {},
   "outputs": [
    {
     "data": {
      "text/html": [
       "<div>\n",
       "<style scoped>\n",
       "    .dataframe tbody tr th:only-of-type {\n",
       "        vertical-align: middle;\n",
       "    }\n",
       "\n",
       "    .dataframe tbody tr th {\n",
       "        vertical-align: top;\n",
       "    }\n",
       "\n",
       "    .dataframe thead th {\n",
       "        text-align: right;\n",
       "    }\n",
       "</style>\n",
       "<table border=\"1\" class=\"dataframe\">\n",
       "  <thead>\n",
       "    <tr style=\"text-align: right;\">\n",
       "      <th></th>\n",
       "      <th>Coef.</th>\n",
       "      <th>Std.Err.</th>\n",
       "      <th>z</th>\n",
       "      <th>P&gt;|z|</th>\n",
       "      <th>[0.025</th>\n",
       "      <th>0.975]</th>\n",
       "    </tr>\n",
       "  </thead>\n",
       "  <tbody>\n",
       "    <tr>\n",
       "      <th>const</th>\n",
       "      <td>2.324847</td>\n",
       "      <td>0.076663</td>\n",
       "      <td>30.325369</td>\n",
       "      <td>5.308628e-202</td>\n",
       "      <td>2.174590</td>\n",
       "      <td>2.475105</td>\n",
       "    </tr>\n",
       "    <tr>\n",
       "      <th>TAVE_DIFF</th>\n",
       "      <td>-0.085479</td>\n",
       "      <td>0.022057</td>\n",
       "      <td>-3.875406</td>\n",
       "      <td>1.064471e-04</td>\n",
       "      <td>-0.128709</td>\n",
       "      <td>-0.042248</td>\n",
       "    </tr>\n",
       "    <tr>\n",
       "      <th>autumn</th>\n",
       "      <td>-1.124566</td>\n",
       "      <td>0.117541</td>\n",
       "      <td>-9.567417</td>\n",
       "      <td>1.096101e-21</td>\n",
       "      <td>-1.354943</td>\n",
       "      <td>-0.894190</td>\n",
       "    </tr>\n",
       "    <tr>\n",
       "      <th>summer</th>\n",
       "      <td>-0.800470</td>\n",
       "      <td>0.102019</td>\n",
       "      <td>-7.846291</td>\n",
       "      <td>4.285211e-15</td>\n",
       "      <td>-1.000424</td>\n",
       "      <td>-0.600517</td>\n",
       "    </tr>\n",
       "    <tr>\n",
       "      <th>winter</th>\n",
       "      <td>-0.581204</td>\n",
       "      <td>0.123022</td>\n",
       "      <td>-4.724408</td>\n",
       "      <td>2.307864e-06</td>\n",
       "      <td>-0.822322</td>\n",
       "      <td>-0.340086</td>\n",
       "    </tr>\n",
       "    <tr>\n",
       "      <th>summer_TAVE</th>\n",
       "      <td>-0.090750</td>\n",
       "      <td>0.034568</td>\n",
       "      <td>-2.625259</td>\n",
       "      <td>8.658310e-03</td>\n",
       "      <td>-0.158503</td>\n",
       "      <td>-0.022998</td>\n",
       "    </tr>\n",
       "    <tr>\n",
       "      <th>autumn_TAVE</th>\n",
       "      <td>0.066519</td>\n",
       "      <td>0.035047</td>\n",
       "      <td>1.898012</td>\n",
       "      <td>5.769453e-02</td>\n",
       "      <td>-0.002171</td>\n",
       "      <td>0.135210</td>\n",
       "    </tr>\n",
       "    <tr>\n",
       "      <th>winter_TAVE</th>\n",
       "      <td>0.043549</td>\n",
       "      <td>0.035111</td>\n",
       "      <td>1.240337</td>\n",
       "      <td>2.148507e-01</td>\n",
       "      <td>-0.025267</td>\n",
       "      <td>0.112365</td>\n",
       "    </tr>\n",
       "  </tbody>\n",
       "</table>\n",
       "</div>"
      ],
      "text/plain": [
       "                Coef.  Std.Err.          z          P>|z|    [0.025    0.975]\n",
       "const        2.324847  0.076663  30.325369  5.308628e-202  2.174590  2.475105\n",
       "TAVE_DIFF   -0.085479  0.022057  -3.875406   1.064471e-04 -0.128709 -0.042248\n",
       "autumn      -1.124566  0.117541  -9.567417   1.096101e-21 -1.354943 -0.894190\n",
       "summer      -0.800470  0.102019  -7.846291   4.285211e-15 -1.000424 -0.600517\n",
       "winter      -0.581204  0.123022  -4.724408   2.307864e-06 -0.822322 -0.340086\n",
       "summer_TAVE -0.090750  0.034568  -2.625259   8.658310e-03 -0.158503 -0.022998\n",
       "autumn_TAVE  0.066519  0.035047   1.898012   5.769453e-02 -0.002171  0.135210\n",
       "winter_TAVE  0.043549  0.035111   1.240337   2.148507e-01 -0.025267  0.112365"
      ]
     },
     "execution_count": 433,
     "metadata": {},
     "output_type": "execute_result"
    }
   ],
   "source": [
    "result2.summary2().tables[1]"
   ]
  },
  {
   "cell_type": "code",
   "execution_count": 436,
   "metadata": {},
   "outputs": [],
   "source": [
    "emo_weather_join5.rename(columns={'season':'Season'},inplace=True)"
   ]
  },
  {
   "cell_type": "code",
   "execution_count": 437,
   "metadata": {},
   "outputs": [],
   "source": [
    "emo_weather_join5['Season'] = emo_weather_join5['Season'].replace({'spring':'1_Spring','summer':'2_Summer','autumn':'3_Autumn','winter':'4_Winter'})"
   ]
  },
  {
   "cell_type": "code",
   "execution_count": 438,
   "metadata": {},
   "outputs": [],
   "source": [
    "#emo_weather_join5['season']"
   ]
  },
  {
   "cell_type": "code",
   "execution_count": 439,
   "metadata": {},
   "outputs": [
    {
     "data": {
      "image/png": "[encoded data removed]",
      "text/plain": [
       "<Figure size 432x576 with 1 Axes>"
      ]
     },
     "metadata": {
      "needs_background": "light"
     },
     "output_type": "display_data"
    }
   ],
   "source": [
    "fig, ax = plt.subplots(figsize=(6, 8))\n",
    "fig = interaction_plot(emo_weather_join5['TAVE_DIFF_cat'], emo_weather_join5['Season'], emo_weather_join5['emotional_well_being'],\n",
    "                     ax=ax,linewidth=3,colors=[\"red\", \"blue\",'purple','orange'])\n",
    "ax.set_xticklabels(['Mean-1SD','Mean+1SD'])\n",
    "ax.set_xlabel('Temperature change in Degree Celsius',fontsize=12)\n",
    "ax.set_ylabel('Mean emotional well-being',fontsize=12)\n",
    "fig.savefig(\"output/interaction_plot_season_summer.png\",dpi=400,bbox_inches='tight')"
   ]
  },
  {
   "cell_type": "markdown",
   "metadata": {},
   "source": []
  },
  {
   "cell_type": "markdown",
   "metadata": {},
   "source": [
    "## check inter-rater agreement"
   ]
  },
  {
   "cell_type": "code",
   "execution_count": 1281,
   "metadata": {},
   "outputs": [],
   "source": [
    "data= pd.read_excel('pro_environmental_validation.xlsx')"
   ]
  },
  {
   "cell_type": "code",
   "execution_count": 1282,
   "metadata": {},
   "outputs": [],
   "source": [
    "from sklearn.metrics import cohen_kappa_score,confusion_matrix"
   ]
  },
  {
   "cell_type": "code",
   "execution_count": 1288,
   "metadata": {},
   "outputs": [
    {
     "data": {
      "text/plain": [
       "1    189\n",
       "0     11\n",
       "Name: Coded_chico, dtype: int64"
      ]
     },
     "execution_count": 1288,
     "metadata": {},
     "output_type": "execute_result"
    }
   ],
   "source": [
    "data['Coded_chico'].value_counts()"
   ]
  },
  {
   "cell_type": "code",
   "execution_count": 1286,
   "metadata": {},
   "outputs": [
    {
     "data": {
      "text/plain": [
       "1    196\n",
       "0      4\n",
       "Name: Coded_yy, dtype: int64"
      ]
     },
     "execution_count": 1286,
     "metadata": {},
     "output_type": "execute_result"
    }
   ],
   "source": [
    "data['Coded_yy'].value_counts()"
   ]
  },
  {
   "cell_type": "code",
   "execution_count": 1279,
   "metadata": {},
   "outputs": [
    {
     "data": {
      "text/plain": [
       "array([[  4,   9],\n",
       "       [  0, 187]])"
      ]
     },
     "execution_count": 1279,
     "metadata": {},
     "output_type": "execute_result"
    }
   ],
   "source": [
    "confusion_matrix(data['Coded_chico'], data['Coded_yy'])"
   ]
  },
  {
   "cell_type": "markdown",
   "metadata": {},
   "source": [
    "## check stationary"
   ]
  },
  {
   "cell_type": "code",
   "execution_count": 1503,
   "metadata": {},
   "outputs": [],
   "source": [
    "emo_weather_join4 = emo_weather_join4.sort_values(by=['publish_time'])"
   ]
  },
  {
   "cell_type": "code",
   "execution_count": 1505,
   "metadata": {},
   "outputs": [
    {
     "data": {
      "text/plain": [
       "[<matplotlib.lines.Line2D at 0x7ff3c693ea60>]"
      ]
     },
     "execution_count": 1505,
     "metadata": {},
     "output_type": "execute_result"
    },
    {
     "data": {
      "image/png": "[encoded data removed]",
      "text/plain": [
       "<Figure size 576x720 with 1 Axes>"
      ]
     },
     "metadata": {},
     "output_type": "display_data"
    }
   ],
   "source": [
    "plt.plot(emo_weather_join4['emotional_tone'])"
   ]
  },
  {
   "cell_type": "code",
   "execution_count": 1501,
   "metadata": {},
   "outputs": [],
   "source": [
    "from statsmodels.tsa.stattools import adfuller"
   ]
  },
  {
   "cell_type": "code",
   "execution_count": 1506,
   "metadata": {},
   "outputs": [
    {
     "data": {
      "text/plain": [
       "(-16.821269346060618,\n",
       " 0.0,\n",
       " 42,\n",
       " 24113,\n",
       " {'1%': -3.959145493683069,\n",
       "  '5%': -3.4106720916026068,\n",
       "  '10%': -3.127157235218088},\n",
       " 152641.24469563668)"
      ]
     },
     "execution_count": 1506,
     "metadata": {},
     "output_type": "execute_result"
    }
   ],
   "source": [
    "adfuller(emo_weather_join4['emotional_tone'],autolag='AIC', regression='ct')"
   ]
  },
  {
   "cell_type": "markdown",
   "metadata": {},
   "source": [
    "## correlations of number of posts and population in million"
   ]
  },
  {
   "cell_type": "code",
   "execution_count": 1491,
   "metadata": {},
   "outputs": [],
   "source": [
    "data = pd.read_excel('China Yearbook 2022 copy.xlsx',sheet_name='Sheet5')"
   ]
  },
  {
   "cell_type": "code",
   "execution_count": 1492,
   "metadata": {},
   "outputs": [
    {
     "data": {
      "text/html": [
       "<div>\n",
       "<style scoped>\n",
       "    .dataframe tbody tr th:only-of-type {\n",
       "        vertical-align: middle;\n",
       "    }\n",
       "\n",
       "    .dataframe tbody tr th {\n",
       "        vertical-align: top;\n",
       "    }\n",
       "\n",
       "    .dataframe thead th {\n",
       "        text-align: right;\n",
       "    }\n",
       "</style>\n",
       "<table border=\"1\" class=\"dataframe\">\n",
       "  <thead>\n",
       "    <tr style=\"text-align: right;\">\n",
       "      <th></th>\n",
       "      <th>ip</th>\n",
       "      <th>IP</th>\n",
       "      <th>人口数</th>\n",
       "      <th>Population (Million)</th>\n",
       "      <th>Post count</th>\n",
       "    </tr>\n",
       "  </thead>\n",
       "  <tbody>\n",
       "    <tr>\n",
       "      <th>0</th>\n",
       "      <td>广东</td>\n",
       "      <td>Guangdong</td>\n",
       "      <td>134340</td>\n",
       "      <td>134.340</td>\n",
       "      <td>3062</td>\n",
       "    </tr>\n",
       "    <tr>\n",
       "      <th>1</th>\n",
       "      <td>山东</td>\n",
       "      <td>Shandong</td>\n",
       "      <td>107712</td>\n",
       "      <td>107.712</td>\n",
       "      <td>1600</td>\n",
       "    </tr>\n",
       "    <tr>\n",
       "      <th>2</th>\n",
       "      <td>河南</td>\n",
       "      <td>Henan</td>\n",
       "      <td>104679</td>\n",
       "      <td>104.679</td>\n",
       "      <td>1165</td>\n",
       "    </tr>\n",
       "    <tr>\n",
       "      <th>3</th>\n",
       "      <td>江苏</td>\n",
       "      <td>Jiangsu</td>\n",
       "      <td>90085</td>\n",
       "      <td>90.085</td>\n",
       "      <td>2012</td>\n",
       "    </tr>\n",
       "    <tr>\n",
       "      <th>4</th>\n",
       "      <td>四川</td>\n",
       "      <td>Sichuan</td>\n",
       "      <td>88670</td>\n",
       "      <td>88.670</td>\n",
       "      <td>1384</td>\n",
       "    </tr>\n",
       "    <tr>\n",
       "      <th>5</th>\n",
       "      <td>河北</td>\n",
       "      <td>Hebei</td>\n",
       "      <td>78885</td>\n",
       "      <td>78.885</td>\n",
       "      <td>1138</td>\n",
       "    </tr>\n",
       "    <tr>\n",
       "      <th>6</th>\n",
       "      <td>湖南</td>\n",
       "      <td>Hunan</td>\n",
       "      <td>70141</td>\n",
       "      <td>70.141</td>\n",
       "      <td>842</td>\n",
       "    </tr>\n",
       "    <tr>\n",
       "      <th>7</th>\n",
       "      <td>浙江</td>\n",
       "      <td>Zhejiang</td>\n",
       "      <td>69273</td>\n",
       "      <td>69.273</td>\n",
       "      <td>1612</td>\n",
       "    </tr>\n",
       "    <tr>\n",
       "      <th>8</th>\n",
       "      <td>安徽</td>\n",
       "      <td>Anhui</td>\n",
       "      <td>64744</td>\n",
       "      <td>64.744</td>\n",
       "      <td>740</td>\n",
       "    </tr>\n",
       "    <tr>\n",
       "      <th>9</th>\n",
       "      <td>湖北</td>\n",
       "      <td>Hubei</td>\n",
       "      <td>61748</td>\n",
       "      <td>61.748</td>\n",
       "      <td>1066</td>\n",
       "    </tr>\n",
       "    <tr>\n",
       "      <th>10</th>\n",
       "      <td>广西</td>\n",
       "      <td>Guangxi</td>\n",
       "      <td>53347</td>\n",
       "      <td>53.347</td>\n",
       "      <td>483</td>\n",
       "    </tr>\n",
       "    <tr>\n",
       "      <th>11</th>\n",
       "      <td>云南</td>\n",
       "      <td>Yunnan</td>\n",
       "      <td>49677</td>\n",
       "      <td>49.677</td>\n",
       "      <td>358</td>\n",
       "    </tr>\n",
       "    <tr>\n",
       "      <th>12</th>\n",
       "      <td>江西</td>\n",
       "      <td>JIangxi</td>\n",
       "      <td>47847</td>\n",
       "      <td>47.847</td>\n",
       "      <td>518</td>\n",
       "    </tr>\n",
       "    <tr>\n",
       "      <th>13</th>\n",
       "      <td>辽宁</td>\n",
       "      <td>Liaoning</td>\n",
       "      <td>44797</td>\n",
       "      <td>44.797</td>\n",
       "      <td>784</td>\n",
       "    </tr>\n",
       "    <tr>\n",
       "      <th>14</th>\n",
       "      <td>福建</td>\n",
       "      <td>Fujian</td>\n",
       "      <td>44352</td>\n",
       "      <td>44.352</td>\n",
       "      <td>1052</td>\n",
       "    </tr>\n",
       "    <tr>\n",
       "      <th>15</th>\n",
       "      <td>陕西</td>\n",
       "      <td>Shaanxi</td>\n",
       "      <td>41876</td>\n",
       "      <td>41.876</td>\n",
       "      <td>711</td>\n",
       "    </tr>\n",
       "    <tr>\n",
       "      <th>16</th>\n",
       "      <td>贵州</td>\n",
       "      <td>Guizhou</td>\n",
       "      <td>40798</td>\n",
       "      <td>40.798</td>\n",
       "      <td>324</td>\n",
       "    </tr>\n",
       "    <tr>\n",
       "      <th>17</th>\n",
       "      <td>山西</td>\n",
       "      <td>Shanxi</td>\n",
       "      <td>36863</td>\n",
       "      <td>36.863</td>\n",
       "      <td>510</td>\n",
       "    </tr>\n",
       "    <tr>\n",
       "      <th>18</th>\n",
       "      <td>黑龙江</td>\n",
       "      <td>Heilongjiang</td>\n",
       "      <td>33098</td>\n",
       "      <td>33.098</td>\n",
       "      <td>651</td>\n",
       "    </tr>\n",
       "    <tr>\n",
       "      <th>19</th>\n",
       "      <td>新疆</td>\n",
       "      <td>Xinjiang</td>\n",
       "      <td>27427</td>\n",
       "      <td>27.427</td>\n",
       "      <td>287</td>\n",
       "    </tr>\n",
       "    <tr>\n",
       "      <th>20</th>\n",
       "      <td>甘肃</td>\n",
       "      <td>Gansu</td>\n",
       "      <td>26368</td>\n",
       "      <td>26.368</td>\n",
       "      <td>294</td>\n",
       "    </tr>\n",
       "    <tr>\n",
       "      <th>21</th>\n",
       "      <td>内蒙古</td>\n",
       "      <td>Neimenggu</td>\n",
       "      <td>25418</td>\n",
       "      <td>25.418</td>\n",
       "      <td>317</td>\n",
       "    </tr>\n",
       "    <tr>\n",
       "      <th>22</th>\n",
       "      <td>吉林</td>\n",
       "      <td>Jilin</td>\n",
       "      <td>25158</td>\n",
       "      <td>25.158</td>\n",
       "      <td>285</td>\n",
       "    </tr>\n",
       "    <tr>\n",
       "      <th>23</th>\n",
       "      <td>海南</td>\n",
       "      <td>Hainan</td>\n",
       "      <td>10800</td>\n",
       "      <td>10.800</td>\n",
       "      <td>195</td>\n",
       "    </tr>\n",
       "    <tr>\n",
       "      <th>24</th>\n",
       "      <td>宁夏</td>\n",
       "      <td>Ningxia</td>\n",
       "      <td>7678</td>\n",
       "      <td>7.678</td>\n",
       "      <td>79</td>\n",
       "    </tr>\n",
       "    <tr>\n",
       "      <th>25</th>\n",
       "      <td>青海</td>\n",
       "      <td>Qinghai</td>\n",
       "      <td>6289</td>\n",
       "      <td>6.289</td>\n",
       "      <td>50</td>\n",
       "    </tr>\n",
       "    <tr>\n",
       "      <th>26</th>\n",
       "      <td>西藏</td>\n",
       "      <td>Xizang</td>\n",
       "      <td>3873</td>\n",
       "      <td>3.873</td>\n",
       "      <td>37</td>\n",
       "    </tr>\n",
       "    <tr>\n",
       "      <th>27</th>\n",
       "      <td>重庆</td>\n",
       "      <td>Chongqing</td>\n",
       "      <td>34019</td>\n",
       "      <td>34.019</td>\n",
       "      <td>534</td>\n",
       "    </tr>\n",
       "    <tr>\n",
       "      <th>28</th>\n",
       "      <td>上海</td>\n",
       "      <td>Shanghai</td>\n",
       "      <td>26365</td>\n",
       "      <td>26.365</td>\n",
       "      <td>1599</td>\n",
       "    </tr>\n",
       "    <tr>\n",
       "      <th>29</th>\n",
       "      <td>北京</td>\n",
       "      <td>Beijing</td>\n",
       "      <td>23185</td>\n",
       "      <td>23.185</td>\n",
       "      <td>2313</td>\n",
       "    </tr>\n",
       "    <tr>\n",
       "      <th>30</th>\n",
       "      <td>天津</td>\n",
       "      <td>Tianjin</td>\n",
       "      <td>14541</td>\n",
       "      <td>14.541</td>\n",
       "      <td>519</td>\n",
       "    </tr>\n",
       "  </tbody>\n",
       "</table>\n",
       "</div>"
      ],
      "text/plain": [
       "     ip            IP     人口数  Population (Million)  Post count\n",
       "0    广东     Guangdong  134340               134.340        3062\n",
       "1    山东      Shandong  107712               107.712        1600\n",
       "2    河南         Henan  104679               104.679        1165\n",
       "3    江苏       Jiangsu   90085                90.085        2012\n",
       "4    四川       Sichuan   88670                88.670        1384\n",
       "5    河北         Hebei   78885                78.885        1138\n",
       "6    湖南         Hunan   70141                70.141         842\n",
       "7    浙江      Zhejiang   69273                69.273        1612\n",
       "8    安徽         Anhui   64744                64.744         740\n",
       "9    湖北         Hubei   61748                61.748        1066\n",
       "10   广西       Guangxi   53347                53.347         483\n",
       "11   云南        Yunnan   49677                49.677         358\n",
       "12   江西       JIangxi   47847                47.847         518\n",
       "13   辽宁      Liaoning   44797                44.797         784\n",
       "14   福建        Fujian   44352                44.352        1052\n",
       "15   陕西       Shaanxi   41876                41.876         711\n",
       "16   贵州       Guizhou   40798                40.798         324\n",
       "17   山西        Shanxi   36863                36.863         510\n",
       "18  黑龙江  Heilongjiang   33098                33.098         651\n",
       "19   新疆      Xinjiang   27427                27.427         287\n",
       "20   甘肃         Gansu   26368                26.368         294\n",
       "21  内蒙古     Neimenggu   25418                25.418         317\n",
       "22   吉林         Jilin   25158                25.158         285\n",
       "23   海南        Hainan   10800                10.800         195\n",
       "24   宁夏       Ningxia    7678                 7.678          79\n",
       "25   青海       Qinghai    6289                 6.289          50\n",
       "26   西藏        Xizang    3873                 3.873          37\n",
       "27   重庆     Chongqing   34019                34.019         534\n",
       "28   上海      Shanghai   26365                26.365        1599\n",
       "29   北京       Beijing   23185                23.185        2313\n",
       "30   天津       Tianjin   14541                14.541         519"
      ]
     },
     "execution_count": 1492,
     "metadata": {},
     "output_type": "execute_result"
    }
   ],
   "source": [
    "data"
   ]
  },
  {
   "cell_type": "code",
   "execution_count": 1493,
   "metadata": {},
   "outputs": [
    {
     "data": {
      "text/plain": [
       "(0.7107511276011833, 7.4489497544831355e-06)"
      ]
     },
     "execution_count": 1493,
     "metadata": {},
     "output_type": "execute_result"
    }
   ],
   "source": [
    "stats.pearsonr(data['Population (Million)'], data['Post count'])"
   ]
  },
  {
   "cell_type": "code",
   "execution_count": 1494,
   "metadata": {},
   "outputs": [],
   "source": [
    "removed_list = ['重庆','北京','上海','天津']"
   ]
  },
  {
   "cell_type": "code",
   "execution_count": 1495,
   "metadata": {},
   "outputs": [],
   "source": [
    "data_drop = data[~data['ip'].isin(removed_list)].copy()"
   ]
  },
  {
   "cell_type": "code",
   "execution_count": 1496,
   "metadata": {},
   "outputs": [
    {
     "data": {
      "text/html": [
       "<div>\n",
       "<style scoped>\n",
       "    .dataframe tbody tr th:only-of-type {\n",
       "        vertical-align: middle;\n",
       "    }\n",
       "\n",
       "    .dataframe tbody tr th {\n",
       "        vertical-align: top;\n",
       "    }\n",
       "\n",
       "    .dataframe thead th {\n",
       "        text-align: right;\n",
       "    }\n",
       "</style>\n",
       "<table border=\"1\" class=\"dataframe\">\n",
       "  <thead>\n",
       "    <tr style=\"text-align: right;\">\n",
       "      <th></th>\n",
       "      <th>ip</th>\n",
       "      <th>IP</th>\n",
       "      <th>人口数</th>\n",
       "      <th>Population (Million)</th>\n",
       "      <th>Post count</th>\n",
       "    </tr>\n",
       "  </thead>\n",
       "  <tbody>\n",
       "    <tr>\n",
       "      <th>0</th>\n",
       "      <td>广东</td>\n",
       "      <td>Guangdong</td>\n",
       "      <td>134340</td>\n",
       "      <td>134.340</td>\n",
       "      <td>3062</td>\n",
       "    </tr>\n",
       "    <tr>\n",
       "      <th>1</th>\n",
       "      <td>山东</td>\n",
       "      <td>Shandong</td>\n",
       "      <td>107712</td>\n",
       "      <td>107.712</td>\n",
       "      <td>1600</td>\n",
       "    </tr>\n",
       "    <tr>\n",
       "      <th>2</th>\n",
       "      <td>河南</td>\n",
       "      <td>Henan</td>\n",
       "      <td>104679</td>\n",
       "      <td>104.679</td>\n",
       "      <td>1165</td>\n",
       "    </tr>\n",
       "    <tr>\n",
       "      <th>3</th>\n",
       "      <td>江苏</td>\n",
       "      <td>Jiangsu</td>\n",
       "      <td>90085</td>\n",
       "      <td>90.085</td>\n",
       "      <td>2012</td>\n",
       "    </tr>\n",
       "    <tr>\n",
       "      <th>4</th>\n",
       "      <td>四川</td>\n",
       "      <td>Sichuan</td>\n",
       "      <td>88670</td>\n",
       "      <td>88.670</td>\n",
       "      <td>1384</td>\n",
       "    </tr>\n",
       "    <tr>\n",
       "      <th>5</th>\n",
       "      <td>河北</td>\n",
       "      <td>Hebei</td>\n",
       "      <td>78885</td>\n",
       "      <td>78.885</td>\n",
       "      <td>1138</td>\n",
       "    </tr>\n",
       "    <tr>\n",
       "      <th>6</th>\n",
       "      <td>湖南</td>\n",
       "      <td>Hunan</td>\n",
       "      <td>70141</td>\n",
       "      <td>70.141</td>\n",
       "      <td>842</td>\n",
       "    </tr>\n",
       "    <tr>\n",
       "      <th>7</th>\n",
       "      <td>浙江</td>\n",
       "      <td>Zhejiang</td>\n",
       "      <td>69273</td>\n",
       "      <td>69.273</td>\n",
       "      <td>1612</td>\n",
       "    </tr>\n",
       "    <tr>\n",
       "      <th>8</th>\n",
       "      <td>安徽</td>\n",
       "      <td>Anhui</td>\n",
       "      <td>64744</td>\n",
       "      <td>64.744</td>\n",
       "      <td>740</td>\n",
       "    </tr>\n",
       "    <tr>\n",
       "      <th>9</th>\n",
       "      <td>湖北</td>\n",
       "      <td>Hubei</td>\n",
       "      <td>61748</td>\n",
       "      <td>61.748</td>\n",
       "      <td>1066</td>\n",
       "    </tr>\n",
       "    <tr>\n",
       "      <th>10</th>\n",
       "      <td>广西</td>\n",
       "      <td>Guangxi</td>\n",
       "      <td>53347</td>\n",
       "      <td>53.347</td>\n",
       "      <td>483</td>\n",
       "    </tr>\n",
       "    <tr>\n",
       "      <th>11</th>\n",
       "      <td>云南</td>\n",
       "      <td>Yunnan</td>\n",
       "      <td>49677</td>\n",
       "      <td>49.677</td>\n",
       "      <td>358</td>\n",
       "    </tr>\n",
       "    <tr>\n",
       "      <th>12</th>\n",
       "      <td>江西</td>\n",
       "      <td>JIangxi</td>\n",
       "      <td>47847</td>\n",
       "      <td>47.847</td>\n",
       "      <td>518</td>\n",
       "    </tr>\n",
       "    <tr>\n",
       "      <th>13</th>\n",
       "      <td>辽宁</td>\n",
       "      <td>Liaoning</td>\n",
       "      <td>44797</td>\n",
       "      <td>44.797</td>\n",
       "      <td>784</td>\n",
       "    </tr>\n",
       "    <tr>\n",
       "      <th>14</th>\n",
       "      <td>福建</td>\n",
       "      <td>Fujian</td>\n",
       "      <td>44352</td>\n",
       "      <td>44.352</td>\n",
       "      <td>1052</td>\n",
       "    </tr>\n",
       "    <tr>\n",
       "      <th>15</th>\n",
       "      <td>陕西</td>\n",
       "      <td>Shaanxi</td>\n",
       "      <td>41876</td>\n",
       "      <td>41.876</td>\n",
       "      <td>711</td>\n",
       "    </tr>\n",
       "    <tr>\n",
       "      <th>16</th>\n",
       "      <td>贵州</td>\n",
       "      <td>Guizhou</td>\n",
       "      <td>40798</td>\n",
       "      <td>40.798</td>\n",
       "      <td>324</td>\n",
       "    </tr>\n",
       "    <tr>\n",
       "      <th>17</th>\n",
       "      <td>山西</td>\n",
       "      <td>Shanxi</td>\n",
       "      <td>36863</td>\n",
       "      <td>36.863</td>\n",
       "      <td>510</td>\n",
       "    </tr>\n",
       "    <tr>\n",
       "      <th>18</th>\n",
       "      <td>黑龙江</td>\n",
       "      <td>Heilongjiang</td>\n",
       "      <td>33098</td>\n",
       "      <td>33.098</td>\n",
       "      <td>651</td>\n",
       "    </tr>\n",
       "    <tr>\n",
       "      <th>19</th>\n",
       "      <td>新疆</td>\n",
       "      <td>Xinjiang</td>\n",
       "      <td>27427</td>\n",
       "      <td>27.427</td>\n",
       "      <td>287</td>\n",
       "    </tr>\n",
       "    <tr>\n",
       "      <th>20</th>\n",
       "      <td>甘肃</td>\n",
       "      <td>Gansu</td>\n",
       "      <td>26368</td>\n",
       "      <td>26.368</td>\n",
       "      <td>294</td>\n",
       "    </tr>\n",
       "    <tr>\n",
       "      <th>21</th>\n",
       "      <td>内蒙古</td>\n",
       "      <td>Neimenggu</td>\n",
       "      <td>25418</td>\n",
       "      <td>25.418</td>\n",
       "      <td>317</td>\n",
       "    </tr>\n",
       "    <tr>\n",
       "      <th>22</th>\n",
       "      <td>吉林</td>\n",
       "      <td>Jilin</td>\n",
       "      <td>25158</td>\n",
       "      <td>25.158</td>\n",
       "      <td>285</td>\n",
       "    </tr>\n",
       "    <tr>\n",
       "      <th>23</th>\n",
       "      <td>海南</td>\n",
       "      <td>Hainan</td>\n",
       "      <td>10800</td>\n",
       "      <td>10.800</td>\n",
       "      <td>195</td>\n",
       "    </tr>\n",
       "    <tr>\n",
       "      <th>24</th>\n",
       "      <td>宁夏</td>\n",
       "      <td>Ningxia</td>\n",
       "      <td>7678</td>\n",
       "      <td>7.678</td>\n",
       "      <td>79</td>\n",
       "    </tr>\n",
       "    <tr>\n",
       "      <th>25</th>\n",
       "      <td>青海</td>\n",
       "      <td>Qinghai</td>\n",
       "      <td>6289</td>\n",
       "      <td>6.289</td>\n",
       "      <td>50</td>\n",
       "    </tr>\n",
       "    <tr>\n",
       "      <th>26</th>\n",
       "      <td>西藏</td>\n",
       "      <td>Xizang</td>\n",
       "      <td>3873</td>\n",
       "      <td>3.873</td>\n",
       "      <td>37</td>\n",
       "    </tr>\n",
       "  </tbody>\n",
       "</table>\n",
       "</div>"
      ],
      "text/plain": [
       "     ip            IP     人口数  Population (Million)  Post count\n",
       "0    广东     Guangdong  134340               134.340        3062\n",
       "1    山东      Shandong  107712               107.712        1600\n",
       "2    河南         Henan  104679               104.679        1165\n",
       "3    江苏       Jiangsu   90085                90.085        2012\n",
       "4    四川       Sichuan   88670                88.670        1384\n",
       "5    河北         Hebei   78885                78.885        1138\n",
       "6    湖南         Hunan   70141                70.141         842\n",
       "7    浙江      Zhejiang   69273                69.273        1612\n",
       "8    安徽         Anhui   64744                64.744         740\n",
       "9    湖北         Hubei   61748                61.748        1066\n",
       "10   广西       Guangxi   53347                53.347         483\n",
       "11   云南        Yunnan   49677                49.677         358\n",
       "12   江西       JIangxi   47847                47.847         518\n",
       "13   辽宁      Liaoning   44797                44.797         784\n",
       "14   福建        Fujian   44352                44.352        1052\n",
       "15   陕西       Shaanxi   41876                41.876         711\n",
       "16   贵州       Guizhou   40798                40.798         324\n",
       "17   山西        Shanxi   36863                36.863         510\n",
       "18  黑龙江  Heilongjiang   33098                33.098         651\n",
       "19   新疆      Xinjiang   27427                27.427         287\n",
       "20   甘肃         Gansu   26368                26.368         294\n",
       "21  内蒙古     Neimenggu   25418                25.418         317\n",
       "22   吉林         Jilin   25158                25.158         285\n",
       "23   海南        Hainan   10800                10.800         195\n",
       "24   宁夏       Ningxia    7678                 7.678          79\n",
       "25   青海       Qinghai    6289                 6.289          50\n",
       "26   西藏        Xizang    3873                 3.873          37"
      ]
     },
     "execution_count": 1496,
     "metadata": {},
     "output_type": "execute_result"
    }
   ],
   "source": [
    "data_drop"
   ]
  },
  {
   "cell_type": "code",
   "execution_count": 1498,
   "metadata": {},
   "outputs": [
    {
     "data": {
      "text/plain": [
       "(0.8997022619630975, 1.7399020610689855e-10)"
      ]
     },
     "execution_count": 1498,
     "metadata": {},
     "output_type": "execute_result"
    }
   ],
   "source": [
    "stats.pearsonr(data_drop['Population (Million)'], data_drop['Post count'])"
   ]
  },
  {
   "cell_type": "code",
   "execution_count": null,
   "metadata": {},
   "outputs": [],
   "source": []
  }
 ],
 "metadata": {
  "kernelspec": {
   "display_name": "Python 3",
   "language": "python",
   "name": "python3"
  },
  "language_info": {
   "codemirror_mode": {
    "name": "ipython",
    "version": 3
   },
   "file_extension": ".py",
   "mimetype": "text/x-python",
   "name": "python",
   "nbconvert_exporter": "python",
   "pygments_lexer": "ipython3",
   "version": "3.8.7"
  }
 },
 "nbformat": 4,
 "nbformat_minor": 2
}
